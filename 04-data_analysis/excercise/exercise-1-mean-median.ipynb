{
 "cells": [
  {
   "cell_type": "markdown",
   "metadata": {},
   "source": [
    "## Ejemplo 1: Estimados de Locación\n",
    "\n"
   ]
  },
  {
   "cell_type": "code",
   "execution_count": 8,
   "metadata": {},
   "outputs": [],
   "source": [
    "import pandas as pd"
   ]
  },
  {
   "cell_type": "code",
   "execution_count": 9,
   "metadata": {},
   "outputs": [
    {
     "data": {
      "text/html": [
       "<div>\n",
       "<style scoped>\n",
       "    .dataframe tbody tr th:only-of-type {\n",
       "        vertical-align: middle;\n",
       "    }\n",
       "\n",
       "    .dataframe tbody tr th {\n",
       "        vertical-align: top;\n",
       "    }\n",
       "\n",
       "    .dataframe thead th {\n",
       "        text-align: right;\n",
       "    }\n",
       "</style>\n",
       "<table border=\"1\" class=\"dataframe\">\n",
       "  <thead>\n",
       "    <tr style=\"text-align: right;\">\n",
       "      <th></th>\n",
       "      <th>suburb</th>\n",
       "      <th>address</th>\n",
       "      <th>rooms</th>\n",
       "      <th>type</th>\n",
       "      <th>price</th>\n",
       "      <th>method</th>\n",
       "      <th>seller_g</th>\n",
       "      <th>date</th>\n",
       "      <th>distance</th>\n",
       "      <th>postcode</th>\n",
       "      <th>bedroom_2</th>\n",
       "      <th>bathroom</th>\n",
       "      <th>car</th>\n",
       "      <th>land_size</th>\n",
       "      <th>council_area</th>\n",
       "      <th>latitude</th>\n",
       "      <th>longitude</th>\n",
       "      <th>region_name</th>\n",
       "      <th>property_count</th>\n",
       "    </tr>\n",
       "  </thead>\n",
       "  <tbody>\n",
       "    <tr>\n",
       "      <th>0</th>\n",
       "      <td>Abbotsford</td>\n",
       "      <td>85 Turner St</td>\n",
       "      <td>2</td>\n",
       "      <td>h</td>\n",
       "      <td>1480000.0</td>\n",
       "      <td>S</td>\n",
       "      <td>Biggin</td>\n",
       "      <td>3/12/2016</td>\n",
       "      <td>2.5</td>\n",
       "      <td>3067.0</td>\n",
       "      <td>2.0</td>\n",
       "      <td>1.0</td>\n",
       "      <td>1.0</td>\n",
       "      <td>202.0</td>\n",
       "      <td>Yarra</td>\n",
       "      <td>-37.7996</td>\n",
       "      <td>144.9984</td>\n",
       "      <td>Northern Metropolitan</td>\n",
       "      <td>4019.0</td>\n",
       "    </tr>\n",
       "    <tr>\n",
       "      <th>1</th>\n",
       "      <td>Abbotsford</td>\n",
       "      <td>25 Bloomburg St</td>\n",
       "      <td>2</td>\n",
       "      <td>h</td>\n",
       "      <td>1035000.0</td>\n",
       "      <td>S</td>\n",
       "      <td>Biggin</td>\n",
       "      <td>4/02/2016</td>\n",
       "      <td>2.5</td>\n",
       "      <td>3067.0</td>\n",
       "      <td>2.0</td>\n",
       "      <td>1.0</td>\n",
       "      <td>0.0</td>\n",
       "      <td>156.0</td>\n",
       "      <td>Yarra</td>\n",
       "      <td>-37.8079</td>\n",
       "      <td>144.9934</td>\n",
       "      <td>Northern Metropolitan</td>\n",
       "      <td>4019.0</td>\n",
       "    </tr>\n",
       "    <tr>\n",
       "      <th>2</th>\n",
       "      <td>Abbotsford</td>\n",
       "      <td>5 Charles St</td>\n",
       "      <td>3</td>\n",
       "      <td>h</td>\n",
       "      <td>1465000.0</td>\n",
       "      <td>SP</td>\n",
       "      <td>Biggin</td>\n",
       "      <td>4/03/2017</td>\n",
       "      <td>2.5</td>\n",
       "      <td>3067.0</td>\n",
       "      <td>3.0</td>\n",
       "      <td>2.0</td>\n",
       "      <td>0.0</td>\n",
       "      <td>134.0</td>\n",
       "      <td>Yarra</td>\n",
       "      <td>-37.8093</td>\n",
       "      <td>144.9944</td>\n",
       "      <td>Northern Metropolitan</td>\n",
       "      <td>4019.0</td>\n",
       "    </tr>\n",
       "    <tr>\n",
       "      <th>3</th>\n",
       "      <td>Abbotsford</td>\n",
       "      <td>40 Federation La</td>\n",
       "      <td>3</td>\n",
       "      <td>h</td>\n",
       "      <td>850000.0</td>\n",
       "      <td>PI</td>\n",
       "      <td>Biggin</td>\n",
       "      <td>4/03/2017</td>\n",
       "      <td>2.5</td>\n",
       "      <td>3067.0</td>\n",
       "      <td>3.0</td>\n",
       "      <td>2.0</td>\n",
       "      <td>1.0</td>\n",
       "      <td>94.0</td>\n",
       "      <td>Yarra</td>\n",
       "      <td>-37.7969</td>\n",
       "      <td>144.9969</td>\n",
       "      <td>Northern Metropolitan</td>\n",
       "      <td>4019.0</td>\n",
       "    </tr>\n",
       "    <tr>\n",
       "      <th>4</th>\n",
       "      <td>Abbotsford</td>\n",
       "      <td>55a Park St</td>\n",
       "      <td>4</td>\n",
       "      <td>h</td>\n",
       "      <td>1600000.0</td>\n",
       "      <td>VB</td>\n",
       "      <td>Nelson</td>\n",
       "      <td>4/06/2016</td>\n",
       "      <td>2.5</td>\n",
       "      <td>3067.0</td>\n",
       "      <td>3.0</td>\n",
       "      <td>1.0</td>\n",
       "      <td>2.0</td>\n",
       "      <td>120.0</td>\n",
       "      <td>Yarra</td>\n",
       "      <td>-37.8072</td>\n",
       "      <td>144.9941</td>\n",
       "      <td>Northern Metropolitan</td>\n",
       "      <td>4019.0</td>\n",
       "    </tr>\n",
       "  </tbody>\n",
       "</table>\n",
       "</div>"
      ],
      "text/plain": [
       "       suburb           address  rooms type      price method seller_g  \\\n",
       "0  Abbotsford      85 Turner St      2    h  1480000.0      S   Biggin   \n",
       "1  Abbotsford   25 Bloomburg St      2    h  1035000.0      S   Biggin   \n",
       "2  Abbotsford      5 Charles St      3    h  1465000.0     SP   Biggin   \n",
       "3  Abbotsford  40 Federation La      3    h   850000.0     PI   Biggin   \n",
       "4  Abbotsford       55a Park St      4    h  1600000.0     VB   Nelson   \n",
       "\n",
       "        date  distance  postcode  bedroom_2  bathroom  car  land_size  \\\n",
       "0  3/12/2016       2.5    3067.0        2.0       1.0  1.0      202.0   \n",
       "1  4/02/2016       2.5    3067.0        2.0       1.0  0.0      156.0   \n",
       "2  4/03/2017       2.5    3067.0        3.0       2.0  0.0      134.0   \n",
       "3  4/03/2017       2.5    3067.0        3.0       2.0  1.0       94.0   \n",
       "4  4/06/2016       2.5    3067.0        3.0       1.0  2.0      120.0   \n",
       "\n",
       "  council_area  latitude  longitude            region_name  property_count  \n",
       "0        Yarra  -37.7996   144.9984  Northern Metropolitan          4019.0  \n",
       "1        Yarra  -37.8079   144.9934  Northern Metropolitan          4019.0  \n",
       "2        Yarra  -37.8093   144.9944  Northern Metropolitan          4019.0  \n",
       "3        Yarra  -37.7969   144.9969  Northern Metropolitan          4019.0  \n",
       "4        Yarra  -37.8072   144.9941  Northern Metropolitan          4019.0  "
      ]
     },
     "execution_count": 9,
     "metadata": {},
     "output_type": "execute_result"
    }
   ],
   "source": [
    "df = pd.read_csv('../../datasets/melbourne_housing-clean.csv', index_col=0)\n",
    "df.head()"
   ]
  },
  {
   "cell_type": "markdown",
   "metadata": {},
   "source": [
    "### La media o promedio\n",
    "\n",
    "La media o promedio se obtiene sumando todos los valores de un conjunto de datos numéricos y dividiéndolos entre la cantidad de valores que tenemos en nuestro conjunto.\n",
    "\n",
    "Vamos a analizar la columna `price`. Veamos cuál es el \"valor típico\" obtenido usando la media (promedio):"
   ]
  },
  {
   "cell_type": "code",
   "execution_count": 11,
   "metadata": {},
   "outputs": [
    {
     "data": {
      "text/plain": [
       "np.float64(1068141.895071269)"
      ]
     },
     "execution_count": 11,
     "metadata": {},
     "output_type": "execute_result"
    }
   ],
   "source": [
    "df['price'].mean()"
   ]
  },
  {
   "cell_type": "markdown",
   "metadata": {},
   "source": [
    "### La mediana\n",
    "\n",
    "La mediana se obtiene de la siguiente manera:\n",
    "\n",
    "1. Primero ordenamos de manera ascendente nuestros datos\n",
    "2. Luego tomamos el valor que está justo en medio de nuestra secuencia ordenada de valores.\n",
    "3. Si nuestro conjunto tiene un número par de valores y por lo tanto no tiene un valor justo a la mitad de la secuencia, se toma el promedio de los dos valores que se encuentran a la mitad de la secuencia.\n",
    "\n",
    "Ahora veamos el \"valor típico\" obtenido usando la mediana:"
   ]
  },
  {
   "cell_type": "code",
   "execution_count": 12,
   "metadata": {},
   "outputs": [
    {
     "data": {
      "text/plain": [
       "np.float64(895500.0)"
      ]
     },
     "execution_count": 12,
     "metadata": {},
     "output_type": "execute_result"
    }
   ],
   "source": [
    "df['price'].median()"
   ]
  },
  {
   "cell_type": "markdown",
   "metadata": {},
   "source": [
    "## Valores atípicos\n",
    "\n",
    "Hemos aprendido a conseguir \"valores típicos\" se sirven para describir un conjunto de datos. Así como existen valores que se parecen a la norma, hay también valores que difieren mucho de la norma. Estos valores suelen sobresalir de nuestro conjunto de datos porque se encuentran a mucha distancia del grueso de las muestras.\n",
    "\n",
    "Estos valores son los \"valores atípicos\". Hay veces en las que tener valores atípicos no nos preocupa, pero otras veces pueden ser peligrosos porque modifican nuestros estimados de locación, dándonos descripciones erróneas de nuestro conjunto de datos.\n",
    "\n",
    "Más adelante aprenderemos a detectar valores atípicos, pero por lo pronto vamos a aprender un estimado de locación que es más *robusto* (menos sensible a valores atípicos) que el promedio y la mediana: la media truncada."
   ]
  },
  {
   "cell_type": "markdown",
   "metadata": {},
   "source": [
    "La media truncada es un estimado de locación más *robusto* que el promedio y la mediana. Esto significa que es menos sensible a valores atípicos. La media truncada se obtiene de la siguiente manera:\n",
    "\n",
    "1. Primero ordenamos nuestro conjunto de manera ascendente.\n",
    "2. Después decidimos qué porcentaje de nuestros datos vamos a truncar. Los valores más comunes suelen variar entre 5% y 25%.\n",
    "3. Divide el porcentaje acordado entre dos y elimina esa fracción de tus datos del inicio y del final de tu secuencia. Por ejemplo, si decides truncar un 5%, elimina el 2.5% de tus datos del inicio de tu secuencia y el otro 2.5% del final de tu secuencia.\n",
    "4. Obtén el promedio de los valores restantes.\n",
    "\n",
    "Afortunadamente, no tenemos que hacer esto manualmente. La librería `scipy` ya ofrece un método para obtener la media truncada fácilmente:"
   ]
  }
 ],
 "metadata": {
  "kernelspec": {
   "display_name": "mcd-projectsI2025a",
   "language": "python",
   "name": "python3"
  },
  "language_info": {
   "codemirror_mode": {
    "name": "ipython",
    "version": 3
   },
   "file_extension": ".py",
   "mimetype": "text/x-python",
   "name": "python",
   "nbconvert_exporter": "python",
   "pygments_lexer": "ipython3",
   "version": "3.13.0"
  }
 },
 "nbformat": 4,
 "nbformat_minor": 2
}
