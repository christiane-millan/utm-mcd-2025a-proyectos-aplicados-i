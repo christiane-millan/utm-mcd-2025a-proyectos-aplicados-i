{
 "cells": [
  {
   "cell_type": "markdown",
   "metadata": {},
   "source": [
    "# Obtención de datos mediante API\n",
    "\n",
    "La API [Neo-Browse](https://api.nasa.gov/) es un servicio web proporcionado por la NASA dentro de su conjunto de APIs de NeoWs (Near Earth Object Web Service). Está diseñada para ofrecer datos sobre asteroides cercanos a la Tierra (NEOs, por sus siglas en inglés) en un formato accesible para desarrolladores, investigadores y entusiastas de la astronomía. Esta API permite navegar por un catálogo completo de asteroides, obteniendo información detallada sobre cada uno de ellos.\n",
    "\n",
    "Características principales de la API Neo-Browse\n",
    "\n",
    "1.\tNavegación por el catálogo de asteroides:\n",
    "\t- Permite explorar todos los objetos cercanos a la Tierra conocidos en el catálogo de la NASA. A diferencia de otras APIs de NeoWs que se enfocan en rangos de fechas específicos, Neo-Browse no requiere parámetros de tiempo.\n",
    "2.\tPaginación:\n",
    "\t- Los datos están organizados en páginas para facilitar la navegación por el catálogo. Puedes controlar el número de resultados por página y cambiar entre páginas con los parámetros size y page.\n",
    "3.\tInformación detallada sobre los asteroides:\n",
    "\t- La API proporciona datos importantes como:\n",
    "\t    - Nombre del asteroide.\n",
    "\t    - Diámetro estimado (mínimo y máximo) en diferentes unidades (metros, kilómetros, etc.).\n",
    "        - Velocidad relativa.\n",
    "\t    - Distancia a la Tierra.\n",
    "        - Probabilidad de ser “potencialmente peligroso” para la Tierra.\n",
    "\t    - Datos orbitales (distancia más cercana al Sol, inclinación orbital, etc.).\n",
    "4.\tIdentificación única de asteroides:\n",
    "    - Cada asteroide tiene un ID único que puede ser usado para buscar información más detallada en otras APIs de NeoWs.\n",
    "\n",
    "\n",
    "La librería `request` es fundamental para realizar solicitudes HTTP. Es ligera, fácil de usar y ampliamente utilizada para consumir APIs."
   ]
  },
  {
   "cell_type": "code",
   "execution_count": 1,
   "metadata": {},
   "outputs": [],
   "source": [
    "import requests \n",
    "import pandas as pd"
   ]
  },
  {
   "cell_type": "markdown",
   "metadata": {},
   "source": [
    "https://api.nasa.gov/neo/rest/v1/neo/browse es el endpoint para la NeoWs (Near Earth Object Web Service). Cada API de la NASA tiene un endpoint diferente; consulta la documentación oficial para más detalles."
   ]
  },
  {
   "cell_type": "code",
   "execution_count": 2,
   "metadata": {},
   "outputs": [],
   "source": [
    "endpoint = \"https://api.nasa.gov/neo/rest/v1/neo/browse\""
   ]
  },
  {
   "cell_type": "markdown",
   "metadata": {},
   "source": [
    "Usamos `requests.get()` para enviar la solicitud HTTP. Le pasamos la URL base y los parámetros como argumentos.\n",
    "\n",
    "Comprobamos si el código de estado HTTP (`status_code`) es 200, lo que indica que la solicitud fue exitosa."
   ]
  },
  {
   "cell_type": "code",
   "execution_count": 3,
   "metadata": {},
   "outputs": [
    {
     "data": {
      "text/plain": [
       "403"
      ]
     },
     "execution_count": 3,
     "metadata": {},
     "output_type": "execute_result"
    }
   ],
   "source": [
    "r = requests.get(endpoint)\n",
    "r.status_code"
   ]
  },
  {
   "cell_type": "markdown",
   "metadata": {},
   "source": [
    "En el intento anterior el código es 403, ya que no se agregó el API_KEY, el cual es obligatorio por el API de la NASA. Podemos complementar el resultado obtenido al imprimir el contendio con el método `json()`."
   ]
  },
  {
   "cell_type": "code",
   "execution_count": 4,
   "metadata": {},
   "outputs": [
    {
     "data": {
      "text/plain": [
       "{'error': {'code': 'API_KEY_MISSING',\n",
       "  'message': 'No api_key was supplied. Get one at https://api.nasa.gov:443'}}"
      ]
     },
     "execution_count": 4,
     "metadata": {},
     "output_type": "execute_result"
    }
   ],
   "source": [
    "r.json()"
   ]
  },
  {
   "cell_type": "markdown",
   "metadata": {},
   "source": [
    "Intentaremos nuevamente una conexión, pero ahora prepararemos el API_KEY.\n",
    "\n",
    "La clave es necesaria para autenticar las solicitudes. Usamos API_KEY en el ejemplo, pero debes registrarte para obtener tu propia clave si planeas hacer muchas solicitudes.\n",
    "\n",
    "Para esto, los parámetros se envían como un diccionario (params en este caso). Incluyen la clave API y otros filtros como la fecha para la imagen astronómica, etc."
   ]
  },
  {
   "cell_type": "code",
   "execution_count": 5,
   "metadata": {},
   "outputs": [
    {
     "data": {
      "text/plain": [
       "200"
      ]
     },
     "execution_count": 5,
     "metadata": {},
     "output_type": "execute_result"
    }
   ],
   "source": [
    "payload = {'api_key' : '3riqw90MyFDjJ3nEvSUGAIYrCn8bZrtYJ50xFeck'}\n",
    "endpoint = \"https://api.nasa.gov/neo/rest/v1/neo/browse\"\n",
    "\n",
    "r = requests.get(endpoint, params=payload)\n",
    "r.status_code\n"
   ]
  },
  {
   "cell_type": "markdown",
   "metadata": {},
   "source": [
    "En este segundo intento, el resultado de `status_code` es igual a 200, lo que significa que fue exitosa la solicitud de GET.\n",
    "\n",
    "Como el resultado fue exitoso, convertimos el contenido a un objeto JSON con .json() y accedemos a los campos que queremos (por ejemplo, links, page y near_earth_objetcts)."
   ]
  },
  {
   "cell_type": "code",
   "execution_count": null,
   "metadata": {},
   "outputs": [],
   "source": [
    "j = r.json()"
   ]
  },
  {
   "cell_type": "code",
   "execution_count": null,
   "metadata": {},
   "outputs": [],
   "source": [
    "print(j)"
   ]
  },
  {
   "cell_type": "markdown",
   "metadata": {},
   "source": [
    "A continuación, exploraremos más a detalle el resultado de `json()`. Mediante el método `keys()` obtenemos una lista de las claves del objeto JSON."
   ]
  },
  {
   "cell_type": "code",
   "execution_count": 7,
   "metadata": {},
   "outputs": [
    {
     "data": {
      "text/plain": [
       "dict_keys(['links', 'page', 'near_earth_objects'])"
      ]
     },
     "execution_count": 7,
     "metadata": {},
     "output_type": "execute_result"
    }
   ],
   "source": [
    "r.json().keys()"
   ]
  },
  {
   "cell_type": "markdown",
   "metadata": {},
   "source": [
    "Al imprimir el valor de la clave `link` observamos que el contenido es otro diccionario, el cual indica el link de la siguiente página a recuperar (`next`) y el link del recurso actual (`self`). "
   ]
  },
  {
   "cell_type": "code",
   "execution_count": 8,
   "metadata": {},
   "outputs": [
    {
     "data": {
      "text/plain": [
       "{'next': 'http://api.nasa.gov/neo/rest/v1/neo/browse?page=1&size=20&api_key=3riqw90MyFDjJ3nEvSUGAIYrCn8bZrtYJ50xFeck',\n",
       " 'self': 'http://api.nasa.gov/neo/rest/v1/neo/browse?page=0&size=20&api_key=3riqw90MyFDjJ3nEvSUGAIYrCn8bZrtYJ50xFeck'}"
      ]
     },
     "execution_count": 8,
     "metadata": {},
     "output_type": "execute_result"
    }
   ],
   "source": [
    "j['links']"
   ]
  },
  {
   "cell_type": "markdown",
   "metadata": {},
   "source": [
    "En el caso del valor a sociado a la clave `page`, podemos diponer del tamaño de la página recuperada. En este caso contien 20 registros (`size`). En adición, podemos conocer el número total de element (`total_elements`), las páginas totales (`total_pages`) y el número de pagina actual (`number`)."
   ]
  },
  {
   "cell_type": "code",
   "execution_count": 9,
   "metadata": {},
   "outputs": [
    {
     "data": {
      "text/plain": [
       "{'size': 20, 'total_elements': 37872, 'total_pages': 1894, 'number': 0}"
      ]
     },
     "execution_count": 9,
     "metadata": {},
     "output_type": "execute_result"
    }
   ],
   "source": [
    "j['page']"
   ]
  },
  {
   "cell_type": "markdown",
   "metadata": {},
   "source": [
    "En la tercera clave `near_earth_objects` encontraresmos los datos de interes. Nuevamen observamos que la información vienen contenida como un diccionario anidado. "
   ]
  },
  {
   "cell_type": "code",
   "execution_count": null,
   "metadata": {},
   "outputs": [],
   "source": [
    "j['near_earth_objects']"
   ]
  },
  {
   "cell_type": "markdown",
   "metadata": {},
   "source": [
    "Ahora que conocemos el la estructura de los datos recuperados en formato JSON, realizaremos una conversión para la construcción de un DataFrame en pandas. \n",
    "\n",
    "Primero, utilizaremos el método `json_normalize()` de panda para convertir datos en formato JSON (particularmente aquellos con estructuras jerárquicas o anidadas) en un DataFrame de Pandas, que es una estructura tabular de filas y columnas.\n",
    "\n",
    "En partícular solo nos interesa lo contenido en la clave `'near_earth_objects'`. Una vez realizada la conversión con el método `pd.from_dict()` creamos el DataFrame a apartir del diccionario.\n"
   ]
  },
  {
   "cell_type": "code",
   "execution_count": 10,
   "metadata": {},
   "outputs": [
    {
     "data": {
      "text/html": [
       "<div>\n",
       "<style scoped>\n",
       "    .dataframe tbody tr th:only-of-type {\n",
       "        vertical-align: middle;\n",
       "    }\n",
       "\n",
       "    .dataframe tbody tr th {\n",
       "        vertical-align: top;\n",
       "    }\n",
       "\n",
       "    .dataframe thead th {\n",
       "        text-align: right;\n",
       "    }\n",
       "</style>\n",
       "<table border=\"1\" class=\"dataframe\">\n",
       "  <thead>\n",
       "    <tr style=\"text-align: right;\">\n",
       "      <th></th>\n",
       "      <th>id</th>\n",
       "      <th>neo_reference_id</th>\n",
       "      <th>name</th>\n",
       "      <th>name_limited</th>\n",
       "      <th>designation</th>\n",
       "      <th>nasa_jpl_url</th>\n",
       "      <th>absolute_magnitude_h</th>\n",
       "      <th>is_potentially_hazardous_asteroid</th>\n",
       "      <th>close_approach_data</th>\n",
       "      <th>is_sentry_object</th>\n",
       "      <th>...</th>\n",
       "      <th>orbital_data.perihelion_distance</th>\n",
       "      <th>orbital_data.perihelion_argument</th>\n",
       "      <th>orbital_data.aphelion_distance</th>\n",
       "      <th>orbital_data.perihelion_time</th>\n",
       "      <th>orbital_data.mean_anomaly</th>\n",
       "      <th>orbital_data.mean_motion</th>\n",
       "      <th>orbital_data.equinox</th>\n",
       "      <th>orbital_data.orbit_class.orbit_class_type</th>\n",
       "      <th>orbital_data.orbit_class.orbit_class_range</th>\n",
       "      <th>orbital_data.orbit_class.orbit_class_description</th>\n",
       "    </tr>\n",
       "  </thead>\n",
       "  <tbody>\n",
       "    <tr>\n",
       "      <th>0</th>\n",
       "      <td>2000433</td>\n",
       "      <td>2000433</td>\n",
       "      <td>433 Eros (A898 PA)</td>\n",
       "      <td>Eros</td>\n",
       "      <td>433</td>\n",
       "      <td>https://ssd.jpl.nasa.gov/tools/sbdb_lookup.htm...</td>\n",
       "      <td>10.41</td>\n",
       "      <td>False</td>\n",
       "      <td>[{'close_approach_date': '1900-12-27', 'close_...</td>\n",
       "      <td>False</td>\n",
       "      <td>...</td>\n",
       "      <td>1.133458052992745</td>\n",
       "      <td>178.9102909699136</td>\n",
       "      <td>1.782904615277399</td>\n",
       "      <td>2460445.664780181111</td>\n",
       "      <td>86.66755145250509</td>\n",
       "      <td>.5597405522715084</td>\n",
       "      <td>J2000</td>\n",
       "      <td>AMO</td>\n",
       "      <td>1.017 AU &lt; q (perihelion) &lt; 1.3 AU</td>\n",
       "      <td>Near-Earth asteroid orbits similar to that of ...</td>\n",
       "    </tr>\n",
       "    <tr>\n",
       "      <th>1</th>\n",
       "      <td>2000719</td>\n",
       "      <td>2000719</td>\n",
       "      <td>719 Albert (A911 TB)</td>\n",
       "      <td>Albert</td>\n",
       "      <td>719</td>\n",
       "      <td>https://ssd.jpl.nasa.gov/tools/sbdb_lookup.htm...</td>\n",
       "      <td>15.59</td>\n",
       "      <td>False</td>\n",
       "      <td>[{'close_approach_date': '1909-08-21', 'close_...</td>\n",
       "      <td>False</td>\n",
       "      <td>...</td>\n",
       "      <td>1.19476035548719</td>\n",
       "      <td>156.2155261769503</td>\n",
       "      <td>4.07755393959166</td>\n",
       "      <td>2459955.833573002386</td>\n",
       "      <td>148.4506773209914</td>\n",
       "      <td>.2302751796962134</td>\n",
       "      <td>J2000</td>\n",
       "      <td>AMO</td>\n",
       "      <td>1.017 AU &lt; q (perihelion) &lt; 1.3 AU</td>\n",
       "      <td>Near-Earth asteroid orbits similar to that of ...</td>\n",
       "    </tr>\n",
       "    <tr>\n",
       "      <th>2</th>\n",
       "      <td>2000887</td>\n",
       "      <td>2000887</td>\n",
       "      <td>887 Alinda (A918 AA)</td>\n",
       "      <td>Alinda</td>\n",
       "      <td>887</td>\n",
       "      <td>https://ssd.jpl.nasa.gov/tools/sbdb_lookup.htm...</td>\n",
       "      <td>13.84</td>\n",
       "      <td>False</td>\n",
       "      <td>[{'close_approach_date': '1974-01-04', 'close_...</td>\n",
       "      <td>False</td>\n",
       "      <td>...</td>\n",
       "      <td>1.060482619836633</td>\n",
       "      <td>350.4742461301673</td>\n",
       "      <td>3.884567382350691</td>\n",
       "      <td>2460678.609991922119</td>\n",
       "      <td>340.1984298231293</td>\n",
       "      <td>.2535087981652097</td>\n",
       "      <td>J2000</td>\n",
       "      <td>AMO</td>\n",
       "      <td>1.017 AU &lt; q (perihelion) &lt; 1.3 AU</td>\n",
       "      <td>Near-Earth asteroid orbits similar to that of ...</td>\n",
       "    </tr>\n",
       "    <tr>\n",
       "      <th>3</th>\n",
       "      <td>2001036</td>\n",
       "      <td>2001036</td>\n",
       "      <td>1036 Ganymed (A924 UB)</td>\n",
       "      <td>Ganymed</td>\n",
       "      <td>1036</td>\n",
       "      <td>https://ssd.jpl.nasa.gov/tools/sbdb_lookup.htm...</td>\n",
       "      <td>9.20</td>\n",
       "      <td>False</td>\n",
       "      <td>[{'close_approach_date': '1910-02-25', 'close_...</td>\n",
       "      <td>False</td>\n",
       "      <td>...</td>\n",
       "      <td>1.245158481030607</td>\n",
       "      <td>132.4961444468926</td>\n",
       "      <td>4.08543903828178</td>\n",
       "      <td>2460569.662511270184</td>\n",
       "      <td>6.984964961069339</td>\n",
       "      <td>.2265088776284111</td>\n",
       "      <td>J2000</td>\n",
       "      <td>AMO</td>\n",
       "      <td>1.017 AU &lt; q (perihelion) &lt; 1.3 AU</td>\n",
       "      <td>Near-Earth asteroid orbits similar to that of ...</td>\n",
       "    </tr>\n",
       "    <tr>\n",
       "      <th>4</th>\n",
       "      <td>2001221</td>\n",
       "      <td>2001221</td>\n",
       "      <td>1221 Amor (1932 EA1)</td>\n",
       "      <td>Amor</td>\n",
       "      <td>1221</td>\n",
       "      <td>https://ssd.jpl.nasa.gov/tools/sbdb_lookup.htm...</td>\n",
       "      <td>17.38</td>\n",
       "      <td>False</td>\n",
       "      <td>[{'close_approach_date': '1908-03-14', 'close_...</td>\n",
       "      <td>False</td>\n",
       "      <td>...</td>\n",
       "      <td>1.085428152631312</td>\n",
       "      <td>26.7176005107723</td>\n",
       "      <td>2.754879623203948</td>\n",
       "      <td>2460838.872819526800</td>\n",
       "      <td>271.7008031502767</td>\n",
       "      <td>.3704247700094682</td>\n",
       "      <td>J2000</td>\n",
       "      <td>AMO</td>\n",
       "      <td>1.017 AU &lt; q (perihelion) &lt; 1.3 AU</td>\n",
       "      <td>Near-Earth asteroid orbits similar to that of ...</td>\n",
       "    </tr>\n",
       "  </tbody>\n",
       "</table>\n",
       "<p>5 rows × 44 columns</p>\n",
       "</div>"
      ],
      "text/plain": [
       "        id neo_reference_id                    name name_limited designation  \\\n",
       "0  2000433          2000433      433 Eros (A898 PA)         Eros         433   \n",
       "1  2000719          2000719    719 Albert (A911 TB)       Albert         719   \n",
       "2  2000887          2000887    887 Alinda (A918 AA)       Alinda         887   \n",
       "3  2001036          2001036  1036 Ganymed (A924 UB)      Ganymed        1036   \n",
       "4  2001221          2001221    1221 Amor (1932 EA1)         Amor        1221   \n",
       "\n",
       "                                        nasa_jpl_url  absolute_magnitude_h  \\\n",
       "0  https://ssd.jpl.nasa.gov/tools/sbdb_lookup.htm...                 10.41   \n",
       "1  https://ssd.jpl.nasa.gov/tools/sbdb_lookup.htm...                 15.59   \n",
       "2  https://ssd.jpl.nasa.gov/tools/sbdb_lookup.htm...                 13.84   \n",
       "3  https://ssd.jpl.nasa.gov/tools/sbdb_lookup.htm...                  9.20   \n",
       "4  https://ssd.jpl.nasa.gov/tools/sbdb_lookup.htm...                 17.38   \n",
       "\n",
       "   is_potentially_hazardous_asteroid  \\\n",
       "0                              False   \n",
       "1                              False   \n",
       "2                              False   \n",
       "3                              False   \n",
       "4                              False   \n",
       "\n",
       "                                 close_approach_data  is_sentry_object  ...  \\\n",
       "0  [{'close_approach_date': '1900-12-27', 'close_...             False  ...   \n",
       "1  [{'close_approach_date': '1909-08-21', 'close_...             False  ...   \n",
       "2  [{'close_approach_date': '1974-01-04', 'close_...             False  ...   \n",
       "3  [{'close_approach_date': '1910-02-25', 'close_...             False  ...   \n",
       "4  [{'close_approach_date': '1908-03-14', 'close_...             False  ...   \n",
       "\n",
       "  orbital_data.perihelion_distance  orbital_data.perihelion_argument  \\\n",
       "0                1.133458052992745                 178.9102909699136   \n",
       "1                 1.19476035548719                 156.2155261769503   \n",
       "2                1.060482619836633                 350.4742461301673   \n",
       "3                1.245158481030607                 132.4961444468926   \n",
       "4                1.085428152631312                  26.7176005107723   \n",
       "\n",
       "   orbital_data.aphelion_distance  orbital_data.perihelion_time  \\\n",
       "0               1.782904615277399          2460445.664780181111   \n",
       "1                4.07755393959166          2459955.833573002386   \n",
       "2               3.884567382350691          2460678.609991922119   \n",
       "3                4.08543903828178          2460569.662511270184   \n",
       "4               2.754879623203948          2460838.872819526800   \n",
       "\n",
       "   orbital_data.mean_anomaly  orbital_data.mean_motion  orbital_data.equinox  \\\n",
       "0          86.66755145250509         .5597405522715084                 J2000   \n",
       "1          148.4506773209914         .2302751796962134                 J2000   \n",
       "2          340.1984298231293         .2535087981652097                 J2000   \n",
       "3          6.984964961069339         .2265088776284111                 J2000   \n",
       "4          271.7008031502767         .3704247700094682                 J2000   \n",
       "\n",
       "   orbital_data.orbit_class.orbit_class_type  \\\n",
       "0                                        AMO   \n",
       "1                                        AMO   \n",
       "2                                        AMO   \n",
       "3                                        AMO   \n",
       "4                                        AMO   \n",
       "\n",
       "   orbital_data.orbit_class.orbit_class_range  \\\n",
       "0          1.017 AU < q (perihelion) < 1.3 AU   \n",
       "1          1.017 AU < q (perihelion) < 1.3 AU   \n",
       "2          1.017 AU < q (perihelion) < 1.3 AU   \n",
       "3          1.017 AU < q (perihelion) < 1.3 AU   \n",
       "4          1.017 AU < q (perihelion) < 1.3 AU   \n",
       "\n",
       "    orbital_data.orbit_class.orbit_class_description  \n",
       "0  Near-Earth asteroid orbits similar to that of ...  \n",
       "1  Near-Earth asteroid orbits similar to that of ...  \n",
       "2  Near-Earth asteroid orbits similar to that of ...  \n",
       "3  Near-Earth asteroid orbits similar to that of ...  \n",
       "4  Near-Earth asteroid orbits similar to that of ...  \n",
       "\n",
       "[5 rows x 44 columns]"
      ]
     },
     "execution_count": 10,
     "metadata": {},
     "output_type": "execute_result"
    }
   ],
   "source": [
    "normalized = pd.json_normalize(j['near_earth_objects'])\n",
    "df = pd.DataFrame.from_dict(normalized)\n",
    "df.head()"
   ]
  },
  {
   "cell_type": "markdown",
   "metadata": {},
   "source": [
    "Una vez que hemos logrado construir un DataFrame a apartir de una petición GET a la API de la NASA. Ahora relizaremos una solicitude diez páginas. "
   ]
  },
  {
   "cell_type": "code",
   "execution_count": 11,
   "metadata": {},
   "outputs": [],
   "source": [
    "for _ in range(0, 10):\n",
    "    r = requests.get(endpoint, params=payload)\n",
    "    if r.status_code == 200:\n",
    "        json = r.json()\n",
    "\n",
    "        data = json['near_earth_objects']\n",
    "        new_link = json['links']['next']\n",
    "\n",
    "        endpoint = new_link"
   ]
  },
  {
   "cell_type": "markdown",
   "metadata": {},
   "source": [
    "En el código anterior se realizan diez peticiones GET seguidas a la API de la NASA, lo que podría ocasionar problemas por la forma inmediata y recurrente. Una buena práctiva al realizar peticiones repetitivas, es incluir un `time.sleep()` para realizar una pausa con la finalidad de evitar las peticiones casí simultaneas a la API.\n",
    "\n",
    "Para esto utilizaremos la función `sleep()` del módulo `time` para definir una espera de cinco segundos."
   ]
  },
  {
   "cell_type": "code",
   "execution_count": 12,
   "metadata": {},
   "outputs": [],
   "source": [
    "import time"
   ]
  },
  {
   "cell_type": "code",
   "execution_count": 13,
   "metadata": {},
   "outputs": [],
   "source": [
    "for _ in range(0, 10):\n",
    "    r = requests.get(endpoint, params=payload)\n",
    "    if r.status_code == 200:\n",
    "        json = r.json()\n",
    "\n",
    "        data = json['near_earth_objects']\n",
    "        new_link = json['links']['next']\n",
    "\n",
    "        endpoint = new_link\n",
    "    \n",
    "    time.sleep(5)"
   ]
  },
  {
   "cell_type": "markdown",
   "metadata": {},
   "source": [
    "El código, obtenido en el paso anterior, ahora será modificada para almacenar las páginas solicitadas en un diccionario `dict_datos`, con la finalidad de almacenar todas las peticiones realizadas a la API."
   ]
  },
  {
   "cell_type": "code",
   "execution_count": 14,
   "metadata": {},
   "outputs": [],
   "source": [
    "dict_datos = {}\n",
    "\n",
    "for i in range(0, 10):\n",
    "    r = requests.get(endpoint, params=payload)\n",
    "    if r.status_code == 200:\n",
    "        json = r.json()\n",
    "\n",
    "        data = json['near_earth_objects']\n",
    "        dict_datos[i] = data\n",
    "\n",
    "        new_link = json['links']['next']\n",
    "        endpoint = new_link\n",
    "    \n",
    "    time.sleep(5)"
   ]
  },
  {
   "cell_type": "code",
   "execution_count": null,
   "metadata": {},
   "outputs": [],
   "source": [
    "dict_datos"
   ]
  },
  {
   "cell_type": "markdown",
   "metadata": {},
   "source": [
    "Para mejorar el código anterior, es recomendable utilizar `try-except` con la finalida de capturar cualquier excepción cue ocurriera durante la petición. En este momento, solo vamos a capturar la excepción y continuar (en futuras implementaciones, se recomienda mejorar el código, para intentar nuevamente recuperar la página y no saltarla)."
   ]
  },
  {
   "cell_type": "code",
   "execution_count": 15,
   "metadata": {},
   "outputs": [],
   "source": [
    "dict_datos = {}\n",
    "\n",
    "for i in range(0, 10):\n",
    "    try:\n",
    "        time.sleep(5)\n",
    "        r = requests.get(endpoint, params=payload)\n",
    "        if r.status_code == 200:\n",
    "            json = r.json()\n",
    "            data = json['near_earth_objects']\n",
    "            dict_datos[i] = data\n",
    "            new_link = json['links']['next']\n",
    "            endpoint = new_link\n",
    "\n",
    "    except:\n",
    "        continue    \n",
    "    \n",
    "    "
   ]
  },
  {
   "cell_type": "markdown",
   "metadata": {},
   "source": [
    "En este punto, tenemos un diccionario `dict_datos` con los resultados de las peticiones realizadas en el bloque de código anterior. Ahora es necesario convertir cada uno de los resultados en un `DataFrame`."
   ]
  },
  {
   "cell_type": "code",
   "execution_count": 16,
   "metadata": {},
   "outputs": [],
   "source": [
    "for k in dict_datos:\n",
    "    normalized = pd.json_normalize(dict_datos[k])\n",
    "    df = pd.DataFrame.from_dict(normalized)\n",
    "    dict_datos[k] = df"
   ]
  },
  {
   "cell_type": "markdown",
   "metadata": {},
   "source": [
    "A continuación, se ilustra el resultado obtenido al imprimir el primer dataframe contenido en `dict_datos[0]`."
   ]
  },
  {
   "cell_type": "code",
   "execution_count": 17,
   "metadata": {},
   "outputs": [
    {
     "data": {
      "text/html": [
       "<div>\n",
       "<style scoped>\n",
       "    .dataframe tbody tr th:only-of-type {\n",
       "        vertical-align: middle;\n",
       "    }\n",
       "\n",
       "    .dataframe tbody tr th {\n",
       "        vertical-align: top;\n",
       "    }\n",
       "\n",
       "    .dataframe thead th {\n",
       "        text-align: right;\n",
       "    }\n",
       "</style>\n",
       "<table border=\"1\" class=\"dataframe\">\n",
       "  <thead>\n",
       "    <tr style=\"text-align: right;\">\n",
       "      <th></th>\n",
       "      <th>id</th>\n",
       "      <th>neo_reference_id</th>\n",
       "      <th>name</th>\n",
       "      <th>designation</th>\n",
       "      <th>nasa_jpl_url</th>\n",
       "      <th>absolute_magnitude_h</th>\n",
       "      <th>is_potentially_hazardous_asteroid</th>\n",
       "      <th>close_approach_data</th>\n",
       "      <th>is_sentry_object</th>\n",
       "      <th>links.self</th>\n",
       "      <th>...</th>\n",
       "      <th>orbital_data.perihelion_distance</th>\n",
       "      <th>orbital_data.perihelion_argument</th>\n",
       "      <th>orbital_data.aphelion_distance</th>\n",
       "      <th>orbital_data.perihelion_time</th>\n",
       "      <th>orbital_data.mean_anomaly</th>\n",
       "      <th>orbital_data.mean_motion</th>\n",
       "      <th>orbital_data.equinox</th>\n",
       "      <th>orbital_data.orbit_class.orbit_class_type</th>\n",
       "      <th>orbital_data.orbit_class.orbit_class_range</th>\n",
       "      <th>orbital_data.orbit_class.orbit_class_description</th>\n",
       "    </tr>\n",
       "  </thead>\n",
       "  <tbody>\n",
       "    <tr>\n",
       "      <th>0</th>\n",
       "      <td>2153951</td>\n",
       "      <td>2153951</td>\n",
       "      <td>153951 (2002 AC3)</td>\n",
       "      <td>153951</td>\n",
       "      <td>https://ssd.jpl.nasa.gov/tools/sbdb_lookup.htm...</td>\n",
       "      <td>18.75</td>\n",
       "      <td>False</td>\n",
       "      <td>[{'close_approach_date': '1900-01-27', 'close_...</td>\n",
       "      <td>False</td>\n",
       "      <td>http://api.nasa.gov/neo/rest/v1/neo/2153951?ap...</td>\n",
       "      <td>...</td>\n",
       "      <td>1.208573069580133</td>\n",
       "      <td>215.1607014571422</td>\n",
       "      <td>2.464018747771989</td>\n",
       "      <td>2460549.375423559195</td>\n",
       "      <td>20.24975611319781</td>\n",
       "      <td>.3960865306462564</td>\n",
       "      <td>J2000</td>\n",
       "      <td>AMO</td>\n",
       "      <td>1.017 AU &lt; q (perihelion) &lt; 1.3 AU</td>\n",
       "      <td>Near-Earth asteroid orbits similar to that of ...</td>\n",
       "    </tr>\n",
       "    <tr>\n",
       "      <th>1</th>\n",
       "      <td>2153953</td>\n",
       "      <td>2153953</td>\n",
       "      <td>153953 (2002 AD9)</td>\n",
       "      <td>153953</td>\n",
       "      <td>https://ssd.jpl.nasa.gov/tools/sbdb_lookup.htm...</td>\n",
       "      <td>16.84</td>\n",
       "      <td>False</td>\n",
       "      <td>[{'close_approach_date': '1912-03-02', 'close_...</td>\n",
       "      <td>False</td>\n",
       "      <td>http://api.nasa.gov/neo/rest/v1/neo/2153953?ap...</td>\n",
       "      <td>...</td>\n",
       "      <td>.3389143676536511</td>\n",
       "      <td>9.802678801425939</td>\n",
       "      <td>3.208007888394581</td>\n",
       "      <td>2460833.808552051953</td>\n",
       "      <td>262.6351449422293</td>\n",
       "      <td>.4173222721646719</td>\n",
       "      <td>J2000</td>\n",
       "      <td>APO</td>\n",
       "      <td>a (semi-major axis) &gt; 1.0 AU; q (perihelion) &lt;...</td>\n",
       "      <td>Near-Earth asteroid orbits which cross the Ear...</td>\n",
       "    </tr>\n",
       "    <tr>\n",
       "      <th>2</th>\n",
       "      <td>2153957</td>\n",
       "      <td>2153957</td>\n",
       "      <td>153957 (2002 AB29)</td>\n",
       "      <td>153957</td>\n",
       "      <td>https://ssd.jpl.nasa.gov/tools/sbdb_lookup.htm...</td>\n",
       "      <td>17.76</td>\n",
       "      <td>False</td>\n",
       "      <td>[{'close_approach_date': '1937-09-20', 'close_...</td>\n",
       "      <td>False</td>\n",
       "      <td>http://api.nasa.gov/neo/rest/v1/neo/2153957?ap...</td>\n",
       "      <td>...</td>\n",
       "      <td>.6103133076617502</td>\n",
       "      <td>73.16235036980498</td>\n",
       "      <td>4.45311881444916</td>\n",
       "      <td>2461168.222396435118</td>\n",
       "      <td>221.09508722705</td>\n",
       "      <td>.2446704826957179</td>\n",
       "      <td>J2000</td>\n",
       "      <td>APO</td>\n",
       "      <td>a (semi-major axis) &gt; 1.0 AU; q (perihelion) &lt;...</td>\n",
       "      <td>Near-Earth asteroid orbits which cross the Ear...</td>\n",
       "    </tr>\n",
       "    <tr>\n",
       "      <th>3</th>\n",
       "      <td>2153958</td>\n",
       "      <td>2153958</td>\n",
       "      <td>153958 (2002 AM31)</td>\n",
       "      <td>153958</td>\n",
       "      <td>https://ssd.jpl.nasa.gov/tools/sbdb_lookup.htm...</td>\n",
       "      <td>18.36</td>\n",
       "      <td>True</td>\n",
       "      <td>[{'close_approach_date': '1903-07-19', 'close_...</td>\n",
       "      <td>False</td>\n",
       "      <td>http://api.nasa.gov/neo/rest/v1/neo/2153958?ap...</td>\n",
       "      <td>...</td>\n",
       "      <td>.9340356772558281</td>\n",
       "      <td>197.9578148586224</td>\n",
       "      <td>2.472051027854558</td>\n",
       "      <td>2460224.166298512855</td>\n",
       "      <td>166.8931957227103</td>\n",
       "      <td>.4434712997087535</td>\n",
       "      <td>J2000</td>\n",
       "      <td>APO</td>\n",
       "      <td>a (semi-major axis) &gt; 1.0 AU; q (perihelion) &lt;...</td>\n",
       "      <td>Near-Earth asteroid orbits which cross the Ear...</td>\n",
       "    </tr>\n",
       "    <tr>\n",
       "      <th>4</th>\n",
       "      <td>2154007</td>\n",
       "      <td>2154007</td>\n",
       "      <td>154007 (2002 BY)</td>\n",
       "      <td>154007</td>\n",
       "      <td>https://ssd.jpl.nasa.gov/tools/sbdb_lookup.htm...</td>\n",
       "      <td>18.12</td>\n",
       "      <td>False</td>\n",
       "      <td>[{'close_approach_date': '1904-04-06', 'close_...</td>\n",
       "      <td>False</td>\n",
       "      <td>http://api.nasa.gov/neo/rest/v1/neo/2154007?ap...</td>\n",
       "      <td>...</td>\n",
       "      <td>1.186625053993438</td>\n",
       "      <td>23.76615777115104</td>\n",
       "      <td>2.449287374243072</td>\n",
       "      <td>2460528.296699024118</td>\n",
       "      <td>29.03260453976844</td>\n",
       "      <td>.4020952525351443</td>\n",
       "      <td>J2000</td>\n",
       "      <td>AMO</td>\n",
       "      <td>1.017 AU &lt; q (perihelion) &lt; 1.3 AU</td>\n",
       "      <td>Near-Earth asteroid orbits similar to that of ...</td>\n",
       "    </tr>\n",
       "  </tbody>\n",
       "</table>\n",
       "<p>5 rows × 43 columns</p>\n",
       "</div>"
      ],
      "text/plain": [
       "        id neo_reference_id                name designation  \\\n",
       "0  2153951          2153951   153951 (2002 AC3)      153951   \n",
       "1  2153953          2153953   153953 (2002 AD9)      153953   \n",
       "2  2153957          2153957  153957 (2002 AB29)      153957   \n",
       "3  2153958          2153958  153958 (2002 AM31)      153958   \n",
       "4  2154007          2154007    154007 (2002 BY)      154007   \n",
       "\n",
       "                                        nasa_jpl_url  absolute_magnitude_h  \\\n",
       "0  https://ssd.jpl.nasa.gov/tools/sbdb_lookup.htm...                 18.75   \n",
       "1  https://ssd.jpl.nasa.gov/tools/sbdb_lookup.htm...                 16.84   \n",
       "2  https://ssd.jpl.nasa.gov/tools/sbdb_lookup.htm...                 17.76   \n",
       "3  https://ssd.jpl.nasa.gov/tools/sbdb_lookup.htm...                 18.36   \n",
       "4  https://ssd.jpl.nasa.gov/tools/sbdb_lookup.htm...                 18.12   \n",
       "\n",
       "   is_potentially_hazardous_asteroid  \\\n",
       "0                              False   \n",
       "1                              False   \n",
       "2                              False   \n",
       "3                               True   \n",
       "4                              False   \n",
       "\n",
       "                                 close_approach_data  is_sentry_object  \\\n",
       "0  [{'close_approach_date': '1900-01-27', 'close_...             False   \n",
       "1  [{'close_approach_date': '1912-03-02', 'close_...             False   \n",
       "2  [{'close_approach_date': '1937-09-20', 'close_...             False   \n",
       "3  [{'close_approach_date': '1903-07-19', 'close_...             False   \n",
       "4  [{'close_approach_date': '1904-04-06', 'close_...             False   \n",
       "\n",
       "                                          links.self  ...  \\\n",
       "0  http://api.nasa.gov/neo/rest/v1/neo/2153951?ap...  ...   \n",
       "1  http://api.nasa.gov/neo/rest/v1/neo/2153953?ap...  ...   \n",
       "2  http://api.nasa.gov/neo/rest/v1/neo/2153957?ap...  ...   \n",
       "3  http://api.nasa.gov/neo/rest/v1/neo/2153958?ap...  ...   \n",
       "4  http://api.nasa.gov/neo/rest/v1/neo/2154007?ap...  ...   \n",
       "\n",
       "   orbital_data.perihelion_distance  orbital_data.perihelion_argument  \\\n",
       "0                 1.208573069580133                 215.1607014571422   \n",
       "1                 .3389143676536511                 9.802678801425939   \n",
       "2                 .6103133076617502                 73.16235036980498   \n",
       "3                 .9340356772558281                 197.9578148586224   \n",
       "4                 1.186625053993438                 23.76615777115104   \n",
       "\n",
       "   orbital_data.aphelion_distance  orbital_data.perihelion_time  \\\n",
       "0               2.464018747771989          2460549.375423559195   \n",
       "1               3.208007888394581          2460833.808552051953   \n",
       "2                4.45311881444916          2461168.222396435118   \n",
       "3               2.472051027854558          2460224.166298512855   \n",
       "4               2.449287374243072          2460528.296699024118   \n",
       "\n",
       "   orbital_data.mean_anomaly  orbital_data.mean_motion  orbital_data.equinox  \\\n",
       "0          20.24975611319781         .3960865306462564                 J2000   \n",
       "1          262.6351449422293         .4173222721646719                 J2000   \n",
       "2            221.09508722705         .2446704826957179                 J2000   \n",
       "3          166.8931957227103         .4434712997087535                 J2000   \n",
       "4          29.03260453976844         .4020952525351443                 J2000   \n",
       "\n",
       "   orbital_data.orbit_class.orbit_class_type  \\\n",
       "0                                        AMO   \n",
       "1                                        APO   \n",
       "2                                        APO   \n",
       "3                                        APO   \n",
       "4                                        AMO   \n",
       "\n",
       "          orbital_data.orbit_class.orbit_class_range  \\\n",
       "0                 1.017 AU < q (perihelion) < 1.3 AU   \n",
       "1  a (semi-major axis) > 1.0 AU; q (perihelion) <...   \n",
       "2  a (semi-major axis) > 1.0 AU; q (perihelion) <...   \n",
       "3  a (semi-major axis) > 1.0 AU; q (perihelion) <...   \n",
       "4                 1.017 AU < q (perihelion) < 1.3 AU   \n",
       "\n",
       "    orbital_data.orbit_class.orbit_class_description  \n",
       "0  Near-Earth asteroid orbits similar to that of ...  \n",
       "1  Near-Earth asteroid orbits which cross the Ear...  \n",
       "2  Near-Earth asteroid orbits which cross the Ear...  \n",
       "3  Near-Earth asteroid orbits which cross the Ear...  \n",
       "4  Near-Earth asteroid orbits similar to that of ...  \n",
       "\n",
       "[5 rows x 43 columns]"
      ]
     },
     "execution_count": 17,
     "metadata": {},
     "output_type": "execute_result"
    }
   ],
   "source": [
    "first_df = dict_datos[0]\n",
    "first_df.head(5)"
   ]
  },
  {
   "cell_type": "markdown",
   "metadata": {},
   "source": [
    "A continuación vamos a convetir el valor de cada uno de los elementos del diccionario `dict_datos` en un elemento de una lista."
   ]
  },
  {
   "cell_type": "code",
   "execution_count": 18,
   "metadata": {},
   "outputs": [],
   "source": [
    "lista_de_dataframes = []\n",
    "\n",
    "for key in dict_datos:\n",
    "    lista_de_dataframes.append(dict_datos[key])"
   ]
  },
  {
   "cell_type": "code",
   "execution_count": null,
   "metadata": {},
   "outputs": [],
   "source": [
    "lista_de_dataframes"
   ]
  },
  {
   "cell_type": "markdown",
   "metadata": {},
   "source": [
    "El método `concat` de la biblioteca Pandas se utiliza para unir o concatenar objetos de tipo DataFrame o Series a lo largo de un eje (filas o columnas). Es muy útil cuando necesitas combinar datos de múltiples fuentes o dividir y luego recombinar tus datos para análisis.\n",
    "\n",
    "Principales usos del método concat\n",
    "\n",
    "1.\tConcatenar a lo largo de las filas (axis=0): Esto apila los objetos uno debajo del otro, agregando nuevas filas al DataFrame o Series resultante.\n",
    "2.\tConcatenar a lo largo de las columnas (axis=1): Esto combina objetos lado a lado, agregando nuevas columnas`\n",
    "\n",
    "A continuación, realizaremos la concatenación de cada uno de los elementos de la lista `lista_de_dataframes` como un solo DataFrame."
   ]
  },
  {
   "cell_type": "code",
   "execution_count": 19,
   "metadata": {},
   "outputs": [],
   "source": [
    "df_completo = pd.concat(lista_de_dataframes, axis=0).reset_index(drop=True)"
   ]
  },
  {
   "cell_type": "code",
   "execution_count": 20,
   "metadata": {},
   "outputs": [
    {
     "data": {
      "text/html": [
       "<div>\n",
       "<style scoped>\n",
       "    .dataframe tbody tr th:only-of-type {\n",
       "        vertical-align: middle;\n",
       "    }\n",
       "\n",
       "    .dataframe tbody tr th {\n",
       "        vertical-align: top;\n",
       "    }\n",
       "\n",
       "    .dataframe thead th {\n",
       "        text-align: right;\n",
       "    }\n",
       "</style>\n",
       "<table border=\"1\" class=\"dataframe\">\n",
       "  <thead>\n",
       "    <tr style=\"text-align: right;\">\n",
       "      <th></th>\n",
       "      <th>id</th>\n",
       "      <th>neo_reference_id</th>\n",
       "      <th>name</th>\n",
       "      <th>designation</th>\n",
       "      <th>nasa_jpl_url</th>\n",
       "      <th>absolute_magnitude_h</th>\n",
       "      <th>is_potentially_hazardous_asteroid</th>\n",
       "      <th>close_approach_data</th>\n",
       "      <th>is_sentry_object</th>\n",
       "      <th>links.self</th>\n",
       "      <th>...</th>\n",
       "      <th>orbital_data.perihelion_argument</th>\n",
       "      <th>orbital_data.aphelion_distance</th>\n",
       "      <th>orbital_data.perihelion_time</th>\n",
       "      <th>orbital_data.mean_anomaly</th>\n",
       "      <th>orbital_data.mean_motion</th>\n",
       "      <th>orbital_data.equinox</th>\n",
       "      <th>orbital_data.orbit_class.orbit_class_type</th>\n",
       "      <th>orbital_data.orbit_class.orbit_class_range</th>\n",
       "      <th>orbital_data.orbit_class.orbit_class_description</th>\n",
       "      <th>name_limited</th>\n",
       "    </tr>\n",
       "  </thead>\n",
       "  <tbody>\n",
       "    <tr>\n",
       "      <th>0</th>\n",
       "      <td>2153951</td>\n",
       "      <td>2153951</td>\n",
       "      <td>153951 (2002 AC3)</td>\n",
       "      <td>153951</td>\n",
       "      <td>https://ssd.jpl.nasa.gov/tools/sbdb_lookup.htm...</td>\n",
       "      <td>18.75</td>\n",
       "      <td>False</td>\n",
       "      <td>[{'close_approach_date': '1900-01-27', 'close_...</td>\n",
       "      <td>False</td>\n",
       "      <td>http://api.nasa.gov/neo/rest/v1/neo/2153951?ap...</td>\n",
       "      <td>...</td>\n",
       "      <td>215.1607014571422</td>\n",
       "      <td>2.464018747771989</td>\n",
       "      <td>2460549.375423559195</td>\n",
       "      <td>20.24975611319781</td>\n",
       "      <td>.3960865306462564</td>\n",
       "      <td>J2000</td>\n",
       "      <td>AMO</td>\n",
       "      <td>1.017 AU &lt; q (perihelion) &lt; 1.3 AU</td>\n",
       "      <td>Near-Earth asteroid orbits similar to that of ...</td>\n",
       "      <td>NaN</td>\n",
       "    </tr>\n",
       "    <tr>\n",
       "      <th>1</th>\n",
       "      <td>2153953</td>\n",
       "      <td>2153953</td>\n",
       "      <td>153953 (2002 AD9)</td>\n",
       "      <td>153953</td>\n",
       "      <td>https://ssd.jpl.nasa.gov/tools/sbdb_lookup.htm...</td>\n",
       "      <td>16.84</td>\n",
       "      <td>False</td>\n",
       "      <td>[{'close_approach_date': '1912-03-02', 'close_...</td>\n",
       "      <td>False</td>\n",
       "      <td>http://api.nasa.gov/neo/rest/v1/neo/2153953?ap...</td>\n",
       "      <td>...</td>\n",
       "      <td>9.802678801425939</td>\n",
       "      <td>3.208007888394581</td>\n",
       "      <td>2460833.808552051953</td>\n",
       "      <td>262.6351449422293</td>\n",
       "      <td>.4173222721646719</td>\n",
       "      <td>J2000</td>\n",
       "      <td>APO</td>\n",
       "      <td>a (semi-major axis) &gt; 1.0 AU; q (perihelion) &lt;...</td>\n",
       "      <td>Near-Earth asteroid orbits which cross the Ear...</td>\n",
       "      <td>NaN</td>\n",
       "    </tr>\n",
       "    <tr>\n",
       "      <th>2</th>\n",
       "      <td>2153957</td>\n",
       "      <td>2153957</td>\n",
       "      <td>153957 (2002 AB29)</td>\n",
       "      <td>153957</td>\n",
       "      <td>https://ssd.jpl.nasa.gov/tools/sbdb_lookup.htm...</td>\n",
       "      <td>17.76</td>\n",
       "      <td>False</td>\n",
       "      <td>[{'close_approach_date': '1937-09-20', 'close_...</td>\n",
       "      <td>False</td>\n",
       "      <td>http://api.nasa.gov/neo/rest/v1/neo/2153957?ap...</td>\n",
       "      <td>...</td>\n",
       "      <td>73.16235036980498</td>\n",
       "      <td>4.45311881444916</td>\n",
       "      <td>2461168.222396435118</td>\n",
       "      <td>221.09508722705</td>\n",
       "      <td>.2446704826957179</td>\n",
       "      <td>J2000</td>\n",
       "      <td>APO</td>\n",
       "      <td>a (semi-major axis) &gt; 1.0 AU; q (perihelion) &lt;...</td>\n",
       "      <td>Near-Earth asteroid orbits which cross the Ear...</td>\n",
       "      <td>NaN</td>\n",
       "    </tr>\n",
       "    <tr>\n",
       "      <th>3</th>\n",
       "      <td>2153958</td>\n",
       "      <td>2153958</td>\n",
       "      <td>153958 (2002 AM31)</td>\n",
       "      <td>153958</td>\n",
       "      <td>https://ssd.jpl.nasa.gov/tools/sbdb_lookup.htm...</td>\n",
       "      <td>18.36</td>\n",
       "      <td>True</td>\n",
       "      <td>[{'close_approach_date': '1903-07-19', 'close_...</td>\n",
       "      <td>False</td>\n",
       "      <td>http://api.nasa.gov/neo/rest/v1/neo/2153958?ap...</td>\n",
       "      <td>...</td>\n",
       "      <td>197.9578148586224</td>\n",
       "      <td>2.472051027854558</td>\n",
       "      <td>2460224.166298512855</td>\n",
       "      <td>166.8931957227103</td>\n",
       "      <td>.4434712997087535</td>\n",
       "      <td>J2000</td>\n",
       "      <td>APO</td>\n",
       "      <td>a (semi-major axis) &gt; 1.0 AU; q (perihelion) &lt;...</td>\n",
       "      <td>Near-Earth asteroid orbits which cross the Ear...</td>\n",
       "      <td>NaN</td>\n",
       "    </tr>\n",
       "    <tr>\n",
       "      <th>4</th>\n",
       "      <td>2154007</td>\n",
       "      <td>2154007</td>\n",
       "      <td>154007 (2002 BY)</td>\n",
       "      <td>154007</td>\n",
       "      <td>https://ssd.jpl.nasa.gov/tools/sbdb_lookup.htm...</td>\n",
       "      <td>18.12</td>\n",
       "      <td>False</td>\n",
       "      <td>[{'close_approach_date': '1904-04-06', 'close_...</td>\n",
       "      <td>False</td>\n",
       "      <td>http://api.nasa.gov/neo/rest/v1/neo/2154007?ap...</td>\n",
       "      <td>...</td>\n",
       "      <td>23.76615777115104</td>\n",
       "      <td>2.449287374243072</td>\n",
       "      <td>2460528.296699024118</td>\n",
       "      <td>29.03260453976844</td>\n",
       "      <td>.4020952525351443</td>\n",
       "      <td>J2000</td>\n",
       "      <td>AMO</td>\n",
       "      <td>1.017 AU &lt; q (perihelion) &lt; 1.3 AU</td>\n",
       "      <td>Near-Earth asteroid orbits similar to that of ...</td>\n",
       "      <td>NaN</td>\n",
       "    </tr>\n",
       "  </tbody>\n",
       "</table>\n",
       "<p>5 rows × 44 columns</p>\n",
       "</div>"
      ],
      "text/plain": [
       "        id neo_reference_id                name designation  \\\n",
       "0  2153951          2153951   153951 (2002 AC3)      153951   \n",
       "1  2153953          2153953   153953 (2002 AD9)      153953   \n",
       "2  2153957          2153957  153957 (2002 AB29)      153957   \n",
       "3  2153958          2153958  153958 (2002 AM31)      153958   \n",
       "4  2154007          2154007    154007 (2002 BY)      154007   \n",
       "\n",
       "                                        nasa_jpl_url  absolute_magnitude_h  \\\n",
       "0  https://ssd.jpl.nasa.gov/tools/sbdb_lookup.htm...                 18.75   \n",
       "1  https://ssd.jpl.nasa.gov/tools/sbdb_lookup.htm...                 16.84   \n",
       "2  https://ssd.jpl.nasa.gov/tools/sbdb_lookup.htm...                 17.76   \n",
       "3  https://ssd.jpl.nasa.gov/tools/sbdb_lookup.htm...                 18.36   \n",
       "4  https://ssd.jpl.nasa.gov/tools/sbdb_lookup.htm...                 18.12   \n",
       "\n",
       "   is_potentially_hazardous_asteroid  \\\n",
       "0                              False   \n",
       "1                              False   \n",
       "2                              False   \n",
       "3                               True   \n",
       "4                              False   \n",
       "\n",
       "                                 close_approach_data  is_sentry_object  \\\n",
       "0  [{'close_approach_date': '1900-01-27', 'close_...             False   \n",
       "1  [{'close_approach_date': '1912-03-02', 'close_...             False   \n",
       "2  [{'close_approach_date': '1937-09-20', 'close_...             False   \n",
       "3  [{'close_approach_date': '1903-07-19', 'close_...             False   \n",
       "4  [{'close_approach_date': '1904-04-06', 'close_...             False   \n",
       "\n",
       "                                          links.self  ...  \\\n",
       "0  http://api.nasa.gov/neo/rest/v1/neo/2153951?ap...  ...   \n",
       "1  http://api.nasa.gov/neo/rest/v1/neo/2153953?ap...  ...   \n",
       "2  http://api.nasa.gov/neo/rest/v1/neo/2153957?ap...  ...   \n",
       "3  http://api.nasa.gov/neo/rest/v1/neo/2153958?ap...  ...   \n",
       "4  http://api.nasa.gov/neo/rest/v1/neo/2154007?ap...  ...   \n",
       "\n",
       "   orbital_data.perihelion_argument  orbital_data.aphelion_distance  \\\n",
       "0                 215.1607014571422               2.464018747771989   \n",
       "1                 9.802678801425939               3.208007888394581   \n",
       "2                 73.16235036980498                4.45311881444916   \n",
       "3                 197.9578148586224               2.472051027854558   \n",
       "4                 23.76615777115104               2.449287374243072   \n",
       "\n",
       "   orbital_data.perihelion_time  orbital_data.mean_anomaly  \\\n",
       "0          2460549.375423559195          20.24975611319781   \n",
       "1          2460833.808552051953          262.6351449422293   \n",
       "2          2461168.222396435118            221.09508722705   \n",
       "3          2460224.166298512855          166.8931957227103   \n",
       "4          2460528.296699024118          29.03260453976844   \n",
       "\n",
       "   orbital_data.mean_motion  orbital_data.equinox  \\\n",
       "0         .3960865306462564                 J2000   \n",
       "1         .4173222721646719                 J2000   \n",
       "2         .2446704826957179                 J2000   \n",
       "3         .4434712997087535                 J2000   \n",
       "4         .4020952525351443                 J2000   \n",
       "\n",
       "   orbital_data.orbit_class.orbit_class_type  \\\n",
       "0                                        AMO   \n",
       "1                                        APO   \n",
       "2                                        APO   \n",
       "3                                        APO   \n",
       "4                                        AMO   \n",
       "\n",
       "          orbital_data.orbit_class.orbit_class_range  \\\n",
       "0                 1.017 AU < q (perihelion) < 1.3 AU   \n",
       "1  a (semi-major axis) > 1.0 AU; q (perihelion) <...   \n",
       "2  a (semi-major axis) > 1.0 AU; q (perihelion) <...   \n",
       "3  a (semi-major axis) > 1.0 AU; q (perihelion) <...   \n",
       "4                 1.017 AU < q (perihelion) < 1.3 AU   \n",
       "\n",
       "    orbital_data.orbit_class.orbit_class_description name_limited  \n",
       "0  Near-Earth asteroid orbits similar to that of ...          NaN  \n",
       "1  Near-Earth asteroid orbits which cross the Ear...          NaN  \n",
       "2  Near-Earth asteroid orbits which cross the Ear...          NaN  \n",
       "3  Near-Earth asteroid orbits which cross the Ear...          NaN  \n",
       "4  Near-Earth asteroid orbits similar to that of ...          NaN  \n",
       "\n",
       "[5 rows x 44 columns]"
      ]
     },
     "execution_count": 20,
     "metadata": {},
     "output_type": "execute_result"
    }
   ],
   "source": [
    "df_completo.head(5)"
   ]
  },
  {
   "cell_type": "markdown",
   "metadata": {},
   "source": [
    "Ahora que hemos unificado todos nuestro datos en un solo DataFrame, lo guardaremos con el formato `csv` para realizar otras actividades relacionadas con la compresión de los datos y la preparación de los datos."
   ]
  },
  {
   "cell_type": "code",
   "execution_count": 21,
   "metadata": {},
   "outputs": [],
   "source": [
    "df_completo.to_csv('../datasets/near_earth_objects-raw.csv')"
   ]
  }
 ],
 "metadata": {
  "kernelspec": {
   "display_name": "mcd-projectsI2025a",
   "language": "python",
   "name": "python3"
  },
  "language_info": {
   "codemirror_mode": {
    "name": "ipython",
    "version": 3
   },
   "file_extension": ".py",
   "mimetype": "text/x-python",
   "name": "python",
   "nbconvert_exporter": "python",
   "pygments_lexer": "ipython3",
   "version": "3.13.0"
  }
 },
 "nbformat": 4,
 "nbformat_minor": 2
}
