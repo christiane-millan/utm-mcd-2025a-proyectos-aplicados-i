{
 "cells": [
  {
   "cell_type": "markdown",
   "metadata": {},
   "source": [
    "# Ejercicios 1. XPath\n",
    "\n",
    "En estos ejercicios navegaremos hasta un elemento específico utilizando el conocimiento de XPath.\n",
    "\n",
    "## Selector\n",
    "\n",
    "Para prácticar el uso de XPath utilizaremos la clase `Selector` contenida dentro del modulo [`scrapy`](https://scrapy.org).\n",
    "\n",
    "Intalación:\n",
    "\n",
    "```terminal\n",
    "conda install scrapy\n",
    "```\n",
    "\n",
    "Para poner a prueba la notación XPath utilizaremos un objeto de tipo `Selector`.\n",
    "\n",
    "Considerar el siguiente código HTML:"
   ]
  },
  {
   "cell_type": "code",
   "execution_count": 1,
   "metadata": {},
   "outputs": [],
   "source": [
    "html = '''\n",
    "<html>\n",
    "  <body>\n",
    "    <div>\n",
    "      <p>Universidad Tecnológica de la Mixteca</p>\n",
    "      <p>Maestría en Ciencia de Datos.</p>\n",
    "    </div>\n",
    "    <div>\n",
    "      <p>Proyecto Aplicado I</p>\n",
    "    </div>\n",
    "  </body>\n",
    "</html>  \n",
    "'''"
   ]
  },
  {
   "cell_type": "markdown",
   "metadata": {},
   "source": [
    "A continuación creamos un objeto identificado como `sel` de tipo `Selector`, indicando como parámetro `text` el código HTML contenido en la variable `html`."
   ]
  },
  {
   "cell_type": "code",
   "execution_count": 2,
   "metadata": {},
   "outputs": [],
   "source": [
    "from scrapy import Selector\n",
    "\n",
    "sel = Selector(text=html)"
   ]
  },
  {
   "cell_type": "markdown",
   "metadata": {},
   "source": [
    "Mediante el método `xpath()` podemos probar nuestros xpath que construyamos. Consider que deseamos extraer el párrafo que contiene el texto: \"Proyecto Aplicado I\".\n",
    "\n",
    "El método `xpath()` de `Selector` nos permitirá realizar la obtención del elemento indicado en la ruta XPath.\n",
    "\n",
    "## Uso de XPath y Selector"
   ]
  },
  {
   "cell_type": "code",
   "execution_count": 3,
   "metadata": {},
   "outputs": [
    {
     "data": {
      "text/plain": [
       "[<Selector query='/html/body/div[2]/p' data='<p>Proyecto Aplicado I</p>'>]"
      ]
     },
     "execution_count": 3,
     "metadata": {},
     "output_type": "execute_result"
    }
   ],
   "source": [
    "sel.xpath('/html/body/div[2]/p')"
   ]
  },
  {
   "cell_type": "markdown",
   "metadata": {},
   "source": [
    "El resultado del método `xpath` es un objeto de tipo `SelectorList`, que incluye tanto el xpath que especificamos y el resultado. Para obtener solo el dato que nos interesa, se utiliza el método `extract()`."
   ]
  },
  {
   "cell_type": "code",
   "execution_count": 4,
   "metadata": {},
   "outputs": [
    {
     "data": {
      "text/plain": [
       "['<p>Proyecto Aplicado I</p>']"
      ]
     },
     "execution_count": 4,
     "metadata": {},
     "output_type": "execute_result"
    }
   ],
   "source": [
    "sel.xpath('/html/body/div[2]/p').extract()"
   ]
  },
  {
   "cell_type": "markdown",
   "metadata": {},
   "source": [
    "El método extract es muy util, sin embargo, es muy común que el elemento que nos interesa inspeccionar del `SelectorList` es el primero, por lo que en adición, se dispone del método `extract_first()` "
   ]
  },
  {
   "cell_type": "code",
   "execution_count": 5,
   "metadata": {},
   "outputs": [
    {
     "data": {
      "text/plain": [
       "'<p>Proyecto Aplicado I</p>'"
      ]
     },
     "execution_count": 5,
     "metadata": {},
     "output_type": "execute_result"
    }
   ],
   "source": [
    "sel.xpath('/html/body/div[2]/p').extract_first()"
   ]
  },
  {
   "cell_type": "markdown",
   "metadata": {},
   "source": [
    "## Uso de `//`"
   ]
  },
  {
   "cell_type": "markdown",
   "metadata": {},
   "source": [
    "Mediante `//`  podemos navegar a las futuras generaciones. A continuación extraeros todos los párrafos `p` dentro del HTML."
   ]
  },
  {
   "cell_type": "code",
   "execution_count": 6,
   "metadata": {},
   "outputs": [
    {
     "data": {
      "text/plain": [
       "['<p>Universidad Tecnológica de la Mixteca</p>',\n",
       " '<p>Maestría en Ciencia de Datos.</p>',\n",
       " '<p>Proyecto Aplicado I</p>']"
      ]
     },
     "execution_count": 6,
     "metadata": {},
     "output_type": "execute_result"
    }
   ],
   "source": [
    "sel.xpath('//p').extract()"
   ]
  },
  {
   "cell_type": "markdown",
   "metadata": {},
   "source": [
    "En el caso que nos interese obtener el primer elemento obtendio por el XPath, hacemos uso del método `extract_first()`"
   ]
  },
  {
   "cell_type": "code",
   "execution_count": 15,
   "metadata": {},
   "outputs": [
    {
     "data": {
      "text/plain": [
       "'<p>Universidad Tecnológica de la Mixteca</p>'"
      ]
     },
     "execution_count": 15,
     "metadata": {},
     "output_type": "execute_result"
    }
   ],
   "source": [
    "sel.xpath('//p').extract_first()"
   ]
  },
  {
   "cell_type": "markdown",
   "metadata": {},
   "source": [
    "Al considerar que el resultado es un objeto `SelectorList` podemos acceder a sus elementos medinte el uso de índices, como se realiza en una objeto de tipo `List`.\n"
   ]
  },
  {
   "cell_type": "code",
   "execution_count": 16,
   "metadata": {},
   "outputs": [
    {
     "data": {
      "text/plain": [
       "'<p>Proyecto Aplicado I</p>'"
      ]
     },
     "execution_count": 16,
     "metadata": {},
     "output_type": "execute_result"
    }
   ],
   "source": [
    "ps = sel.xpath('//p').extract()\n",
    "ps[2]"
   ]
  },
  {
   "cell_type": "markdown",
   "metadata": {},
   "source": [
    "## Uso de `[]`\n",
    "\n",
    "Para obtener un elemento el cual comparte el mismo nivel con otros nodos hermanos, utilizamos `[]` para incar el elemento a extraer. En muestro ejemplo de HTML las cadenas: \"Universidad Tecnológica de la Mixteca\" y \"Maestría en Ciencia de Datos\" ambas se encuentran contenidas en etiquetas `p` dentro de una etiqueta `div`, por lo que son nodos hermanos.\n",
    "\n",
    "Considermos los siguientes ejemplos:"
   ]
  },
  {
   "cell_type": "code",
   "execution_count": 7,
   "metadata": {},
   "outputs": [
    {
     "data": {
      "text/plain": [
       "['<p>Universidad Tecnológica de la Mixteca</p>',\n",
       " '<p>Maestría en Ciencia de Datos.</p>',\n",
       " '<p>Proyecto Aplicado I</p>']"
      ]
     },
     "execution_count": 7,
     "metadata": {},
     "output_type": "execute_result"
    }
   ],
   "source": [
    "sel.xpath('/html/body/div/p').extract()"
   ]
  },
  {
   "cell_type": "markdown",
   "metadata": {},
   "source": [
    "En el ejemplo de XPath anterior, el resultado nos devuelve tres etiquetas, y es que, si verificamos la ruta indicada nos puede llevar a cualquier de los párrafos devueltos."
   ]
  },
  {
   "cell_type": "code",
   "execution_count": 8,
   "metadata": {},
   "outputs": [
    {
     "data": {
      "text/plain": [
       "['<p>Universidad Tecnológica de la Mixteca</p>',\n",
       " '<p>Maestría en Ciencia de Datos.</p>']"
      ]
     },
     "execution_count": 8,
     "metadata": {},
     "output_type": "execute_result"
    }
   ],
   "source": [
    "sel.xpath('/html/body/div[1]/p').extract()"
   ]
  },
  {
   "cell_type": "markdown",
   "metadata": {},
   "source": [
    "En este segundo ejemplo, se ha específicado que considere el `div[1]` por lo que las etiquetas que cumplen con la ruta son dos."
   ]
  },
  {
   "cell_type": "code",
   "execution_count": 9,
   "metadata": {},
   "outputs": [
    {
     "data": {
      "text/plain": [
       "['<p>Maestría en Ciencia de Datos.</p>']"
      ]
     },
     "execution_count": 9,
     "metadata": {},
     "output_type": "execute_result"
    }
   ],
   "source": [
    "sel.xpath('/html/body/div[1]/p[2]').extract()"
   ]
  },
  {
   "cell_type": "markdown",
   "metadata": {},
   "source": [
    "En este último ejemplo, se ha específicado el div de interes `div[1]` y en adición, el párrafo de interes `p[2]`. Por lo que, el resultado obtenido solo muestra un elemento que cumple con tal ruta.\n",
    "\n",
    "## Distintas formas de indicar la misma ruta"
   ]
  },
  {
   "cell_type": "markdown",
   "metadata": {},
   "source": [
    "Si consideramos los resultados de la sección anterio y con los que se muetran a continuación. ¿Qué podemos concluir?"
   ]
  },
  {
   "cell_type": "code",
   "execution_count": 10,
   "metadata": {},
   "outputs": [
    {
     "data": {
      "text/plain": [
       "['<p>Universidad Tecnológica de la Mixteca</p>',\n",
       " '<p>Maestría en Ciencia de Datos.</p>',\n",
       " '<p>Proyecto Aplicado I</p>']"
      ]
     },
     "execution_count": 10,
     "metadata": {},
     "output_type": "execute_result"
    }
   ],
   "source": [
    "sel.xpath('//p').extract()"
   ]
  },
  {
   "cell_type": "code",
   "execution_count": 11,
   "metadata": {},
   "outputs": [
    {
     "data": {
      "text/plain": [
       "['<p>Universidad Tecnológica de la Mixteca</p>', '<p>Proyecto Aplicado I</p>']"
      ]
     },
     "execution_count": 11,
     "metadata": {},
     "output_type": "execute_result"
    }
   ],
   "source": [
    "sel.xpath('//p[1]').extract()"
   ]
  },
  {
   "cell_type": "code",
   "execution_count": 12,
   "metadata": {},
   "outputs": [
    {
     "data": {
      "text/plain": [
       "['<p>Maestría en Ciencia de Datos.</p>']"
      ]
     },
     "execution_count": 12,
     "metadata": {},
     "output_type": "execute_result"
    }
   ],
   "source": [
    "sel.xpath('//p[2]').extract()"
   ]
  },
  {
   "cell_type": "markdown",
   "metadata": {},
   "source": [
    "## Uso del comodín `*`\n",
    "\n",
    "En la notación de XPath el símbolo `*` indica que se desea navegar en el futuro inmediato sin importar el tipo de etiqueta que encuentre. Por ejemplo, considerar la siguente estructura de código HTML:"
   ]
  },
  {
   "cell_type": "code",
   "execution_count": 13,
   "metadata": {},
   "outputs": [],
   "source": [
    "html = '''\n",
    "<html>\n",
    "  <body>\n",
    "    <div>\n",
    "      <p>Universidad Tecnológica de la Mixteca</p>\n",
    "      <p>Maestría en Ciencia de Datos.</p>\n",
    "    </div>\n",
    "    <p>Proyecto Aplicado I</p>\n",
    "  </body>\n",
    "</html>  \n",
    "'''\n",
    "\n",
    "sel = Selector(text=html)"
   ]
  },
  {
   "cell_type": "code",
   "execution_count": 14,
   "metadata": {},
   "outputs": [
    {
     "data": {
      "text/plain": [
       "['<div>\\n      <p>Universidad Tecnológica de la Mixteca</p>\\n      <p>Maestría en Ciencia de Datos.</p>\\n    </div>',\n",
       " '<p>Proyecto Aplicado I</p>']"
      ]
     },
     "execution_count": 14,
     "metadata": {},
     "output_type": "execute_result"
    }
   ],
   "source": [
    "sel.xpath('/html/body/*').extract()"
   ]
  },
  {
   "cell_type": "markdown",
   "metadata": {},
   "source": [
    "En este ejemplo, fueron seleccionados los dos elementos descendientes de `body` sin importar que una fuera un `div` y el otro `p`."
   ]
  }
 ],
 "metadata": {
  "kernelspec": {
   "display_name": "mcd-projectsI2025a",
   "language": "python",
   "name": "python3"
  },
  "language_info": {
   "codemirror_mode": {
    "name": "ipython",
    "version": 3
   },
   "file_extension": ".py",
   "mimetype": "text/x-python",
   "name": "python",
   "nbconvert_exporter": "python",
   "pygments_lexer": "ipython3",
   "version": "3.13.0"
  }
 },
 "nbformat": 4,
 "nbformat_minor": 2
}
