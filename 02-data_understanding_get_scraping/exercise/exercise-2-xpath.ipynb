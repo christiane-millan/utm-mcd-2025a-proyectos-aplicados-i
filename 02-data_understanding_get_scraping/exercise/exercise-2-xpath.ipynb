{
 "cells": [
  {
   "cell_type": "markdown",
   "metadata": {},
   "source": [
    "# Ejercicios 2. Xpath\n",
    "\n",
    "El uso de los **atributos** de las etiquetas HTML ayuda a especificar más a detalle  la obtención de rutas XPath.\n",
    "\n",
    "Consideremos el siguente código HTML para seguir practicado:\n",
    "\n"
   ]
  },
  {
   "cell_type": "code",
   "execution_count": 1,
   "metadata": {},
   "outputs": [],
   "source": [
    "html = '''\n",
    "<html>\n",
    "  <body>\n",
    "    <div id=\"div1\" class=\"class-1\">\n",
    "      <p class=\"class-1 class-2\">Universidad Tecnológica de la Mixteca</p>\n",
    "      <div id=\"div2\">\n",
    "        <p id=\"p2\" class=\"class-2\">Maestría en Ciencia de Datos.</p>\n",
    "      </div>  \n",
    "    <div id=\"div3\" class=\"class-2\">\n",
    "      <p class=\"class-2\">Proyecto Aplicado I</p>\n",
    "    </div>\n",
    "  </body>\n",
    "</html>  \n",
    "'''"
   ]
  },
  {
   "cell_type": "markdown",
   "metadata": {},
   "source": [
    "Crear un XPath para seleccionar  el párrafo que contiene la frase: \"Proyecto Aplicado I\"."
   ]
  },
  {
   "cell_type": "code",
   "execution_count": 4,
   "metadata": {},
   "outputs": [],
   "source": [
    "xpath = '//*[@id=\"___\"]/p'"
   ]
  },
  {
   "cell_type": "markdown",
   "metadata": {},
   "source": [
    "Comprueba tu resultado:"
   ]
  },
  {
   "cell_type": "code",
   "execution_count": 5,
   "metadata": {},
   "outputs": [
    {
     "data": {
      "text/plain": [
       "['<p class=\"class-2\">Thanks for Watching!</p>']"
      ]
     },
     "execution_count": 5,
     "metadata": {},
     "output_type": "execute_result"
    }
   ],
   "source": [
    "from scrapy import Selector \n",
    "\n",
    "def print_element_text(xpath):\n",
    "    sel = Selector(text=html)\n",
    "    return sel.xpath(xpath).extract()\n",
    "\n",
    "\n",
    "print_element_text(xpath)"
   ]
  },
  {
   "cell_type": "markdown",
   "metadata": {},
   "source": [
    "Acontinuación, crearemos un XPath que  que seleccione el elemento párrafo que contiene la frase: \"Universidad Tecnológica de la Mixteca\""
   ]
  },
  {
   "cell_type": "code",
   "execution_count": null,
   "metadata": {},
   "outputs": [],
   "source": [
    "xpath = '//p[@class=\"_____\"]'"
   ]
  },
  {
   "cell_type": "markdown",
   "metadata": {},
   "source": [
    "Comprobemos el resultado:"
   ]
  },
  {
   "cell_type": "code",
   "execution_count": null,
   "metadata": {},
   "outputs": [],
   "source": [
    "print_element_text(xpath)"
   ]
  },
  {
   "cell_type": "markdown",
   "metadata": {},
   "source": [
    "En ocasiones un atributo importane a extraer para realizar el rastreo de sitios web (web-crawling) el el atributo `href` (hipervínculos) asociado a las etiquetas `a`. \n",
    "\n",
    "Considerar el siguiente código HTML:"
   ]
  },
  {
   "cell_type": "code",
   "execution_count": 6,
   "metadata": {},
   "outputs": [],
   "source": [
    "html = '''\n",
    "<html>\n",
    "  <body>\n",
    "    <div id=\"div1\" class=\"class-1\">\n",
    "      <p class=\"class-1 class-2\">Universidad Tecnológica de la Mixteca</p>\n",
    "      <div id=\"div2\">\n",
    "        <p id=\"p2\" class=\"class-2\">Maestría en Ciencia de Datos \n",
    "            <a href=\"http://virtual.utm.mx/maestria_ciencia_datos.html\"> Click aquí!</a>\n",
    "        </p>\n",
    "      </div>  \n",
    "    <div id=\"div3\" class=\"class-2\">\n",
    "      <p class=\"class-2\">Proyecto Aplicado I</p>\n",
    "    </div>\n",
    "  </body>\n",
    "</html>  \n",
    "'''"
   ]
  },
  {
   "cell_type": "markdown",
   "metadata": {},
   "source": [
    "Completa la notación XPath para selecionar el valor del atributo `href` del hipevínculo "
   ]
  },
  {
   "cell_type": "code",
   "execution_count": 7,
   "metadata": {},
   "outputs": [],
   "source": [
    "xpath = '//p[@id=\"_____\"]/a/______'"
   ]
  },
  {
   "cell_type": "code",
   "execution_count": 8,
   "metadata": {},
   "outputs": [
    {
     "data": {
      "text/plain": [
       "[]"
      ]
     },
     "execution_count": 8,
     "metadata": {},
     "output_type": "execute_result"
    }
   ],
   "source": [
    "print_element_text(xpath)"
   ]
  },
  {
   "cell_type": "markdown",
   "metadata": {},
   "source": [
    "## Solicitud de un Selector \n",
    "\n",
    "A continuación realizaremos la extracción del código HTML de una página en particular mediante el uso de `request`."
   ]
  },
  {
   "cell_type": "code",
   "execution_count": 10,
   "metadata": {},
   "outputs": [],
   "source": [
    "from scrapy import Selector\n",
    "import requests\n",
    "\n",
    "url = \"http://virtual.utm.mx\"\n",
    "\n",
    "html = requests.get(url).content\n",
    "\n",
    "sel = Selector(text=html)"
   ]
  },
  {
   "cell_type": "markdown",
   "metadata": {},
   "source": [
    "Los `request` como lo revisamos en la lección sobre extracción de datos medinte APIs, tiene el método `get()` el cual nos permite realizar una petición al servidor, en este caso, a la página objetivo. "
   ]
  },
  {
   "cell_type": "code",
   "execution_count": 12,
   "metadata": {},
   "outputs": [
    {
     "name": "stdout",
     "output_type": "stream",
     "text": [
      "Existen 416 elementos en el documento HTML\n",
      "Hemos encontrado:  416\n"
     ]
    }
   ],
   "source": [
    "print(\"Existen 416 elementos en el documento HTML\")\n",
    "print(\"Hemos encontrado: \", len(sel.xpath('//*')))"
   ]
  },
  {
   "cell_type": "markdown",
   "metadata": {},
   "source": [
    "El siguiente ejercicio consta de crear un XPath el cual nos dirija a todos los valores los hipervínculos de los atributos `href` de las etiquetas `a` los cuales la clase del `div` padre contengan la cadena: `\"col-md-4\"`. \n",
    "\n",
    "Si lo haces correctamente encontraras dos hipervínculos."
   ]
  },
  {
   "cell_type": "code",
   "execution_count": 15,
   "metadata": {},
   "outputs": [],
   "source": [
    "xpath = '//div[contains(___________)]/a/____'"
   ]
  },
  {
   "cell_type": "code",
   "execution_count": 16,
   "metadata": {},
   "outputs": [
    {
     "data": {
      "text/plain": [
       "['licenciatura_estudios_mexicanos.html', 'maestria_ciencia_datos.html']"
      ]
     },
     "execution_count": 16,
     "metadata": {},
     "output_type": "execute_result"
    }
   ],
   "source": [
    "sel.xpath(xpath).extract()"
   ]
  },
  {
   "cell_type": "markdown",
   "metadata": {},
   "source": [
    "## Encademientos de XPath\n",
    "\n",
    "Considermos que se desea realizar el encadenamiento del ejemplo anterior:"
   ]
  },
  {
   "cell_type": "code",
   "execution_count": 17,
   "metadata": {},
   "outputs": [
    {
     "data": {
      "text/plain": [
       "[<Selector query='./a/@href' data='licenciatura_estudios_mexicanos.html'>,\n",
       " <Selector query='./a/@href' data='maestria_ciencia_datos.html'>]"
      ]
     },
     "execution_count": 17,
     "metadata": {},
     "output_type": "execute_result"
    }
   ],
   "source": [
    "sel.xpath('//div[contains(____________)]').xpath('_____')"
   ]
  },
  {
   "cell_type": "code",
   "execution_count": null,
   "metadata": {},
   "outputs": [],
   "source": [
    "sel.xpath(xpath).extract()"
   ]
  }
 ],
 "metadata": {
  "kernelspec": {
   "display_name": "mcd-projectsI2025a",
   "language": "python",
   "name": "python3"
  },
  "language_info": {
   "codemirror_mode": {
    "name": "ipython",
    "version": 3
   },
   "file_extension": ".py",
   "mimetype": "text/x-python",
   "name": "python",
   "nbconvert_exporter": "python",
   "pygments_lexer": "ipython3",
   "version": "3.13.0"
  }
 },
 "nbformat": 4,
 "nbformat_minor": 2
}
