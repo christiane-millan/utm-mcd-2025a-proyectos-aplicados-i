{
 "cells": [
  {
   "cell_type": "markdown",
   "metadata": {},
   "source": [
    "# CSS Locator\n",
    "\n",
    "\n",
    "La forma de utilizar CSS Locator en conjunto con un `Selector` es utilizar el método `css` en el lugar de `xpath`. \n",
    "\n",
    "Consideremos el siguiente ejemplo:"
   ]
  },
  {
   "cell_type": "code",
   "execution_count": 3,
   "metadata": {},
   "outputs": [],
   "source": [
    "from scrapy import Selector\n",
    "\n",
    "html = '''\n",
    "<html>\n",
    "\t<body>\n",
    "\t\t<div class=\"hello MCD\">\n",
    "\t\t\t<p>Hello world!</p>\n",
    "\t\t</div>\n",
    "\t\t\t<p>Enjoy this lesson!</p>\n",
    "\t</body>\n",
    "</html>\n",
    "'''\n",
    "\n",
    "sel = Selector(text=html)"
   ]
  },
  {
   "cell_type": "markdown",
   "metadata": {},
   "source": [
    "Extraeremos de todos los `div` los párrafos `p`."
   ]
  },
  {
   "cell_type": "code",
   "execution_count": 4,
   "metadata": {},
   "outputs": [
    {
     "data": {
      "text/plain": [
       "[<Selector query='descendant-or-self::div/p' data='<p>Hello world!</p>'>]"
      ]
     },
     "execution_count": 4,
     "metadata": {},
     "output_type": "execute_result"
    }
   ],
   "source": [
    "sel.css(\"div > p\")"
   ]
  },
  {
   "cell_type": "markdown",
   "metadata": {},
   "source": [
    "En el caso de querer extrar la selección del CSS Locator, utilizar el método `extract()`. Recuerda que independiente, del uso de los métodos `xpath` o `css` tienes la posibilidad de utilizar `extract()` o `extract_first()`. En adición, acceder a los elementos `LocatorList` mediante los indices."
   ]
  },
  {
   "cell_type": "code",
   "execution_count": 5,
   "metadata": {},
   "outputs": [
    {
     "data": {
      "text/plain": [
       "['<p>Hello world!</p>']"
      ]
     },
     "execution_count": 5,
     "metadata": {},
     "output_type": "execute_result"
    }
   ],
   "source": [
    "sel.css(\"div > p\").extract()"
   ]
  },
  {
   "cell_type": "markdown",
   "metadata": {},
   "source": [
    "## De XPath a CSS Locator\n",
    "\n",
    "Realizemos las siguientes conversiones:"
   ]
  },
  {
   "cell_type": "code",
   "execution_count": 54,
   "metadata": {},
   "outputs": [],
   "source": [
    "from scrapy import Selector\n",
    "import requests\n",
    "\n",
    "url = \"http://virtual.utm.mx\"\n",
    "\n",
    "html = requests.get(url).content\n",
    "\n",
    "sel = Selector(text=html)"
   ]
  },
  {
   "cell_type": "markdown",
   "metadata": {},
   "source": [
    "1. Considear el siguente XPath"
   ]
  },
  {
   "cell_type": "code",
   "execution_count": 55,
   "metadata": {},
   "outputs": [
    {
     "data": {
      "text/plain": [
       "['<a href=\"licenciatura_estudios_mexicanos.html\">\\n                        <div class=\"d-flex flex-column align-items-center\">\\n\\n                            <div class=\"courses-item pb-3\">\\n                                <div class=\"item-img mr-2 row\">\\n                                    <img src=\"assets/img/school-2.jpg\" class=\"img-fluid\" style=\"max-height:30vw; min-width: 32vw; \">\\n                                </div>\\n                                <div class=\"d-flex flex-column align-items-center py-3\">\\n\\n                               <strong> Licenciatura en Estudios Mexicanos</strong>\\n                                </div>\\n                                </div>\\n\\n                        </div>\\n                     </a>']"
      ]
     },
     "execution_count": 55,
     "metadata": {},
     "output_type": "execute_result"
    }
   ],
   "source": [
    "xpath = '//div[contains(@class, \"col-md-4\")][1]//a'\n",
    "\n",
    "sel.xpath(xpath).extract()"
   ]
  },
  {
   "cell_type": "markdown",
   "metadata": {},
   "source": [
    "Crear la cadena CSS Locator equivalente al XPath: `xpath = '//div[contains(@class, \"col-md-4\")][1]//a'`"
   ]
  },
  {
   "cell_type": "code",
   "execution_count": null,
   "metadata": {},
   "outputs": [],
   "source": [
    "css_locator = '________________'\n",
    "sel.css(css_locator).extract()"
   ]
  },
  {
   "cell_type": "markdown",
   "metadata": {},
   "source": [
    "2. Considerar el sigueinte CSS Locator"
   ]
  },
  {
   "cell_type": "code",
   "execution_count": 56,
   "metadata": {},
   "outputs": [
    {
     "data": {
      "text/plain": [
       "['<h1>Oferta Educativa</h1>']"
      ]
     },
     "execution_count": 56,
     "metadata": {},
     "output_type": "execute_result"
    }
   ],
   "source": [
    "css_locator = 'div#courses>div>h1'\n",
    "sel.css(css_locator).extract()"
   ]
  },
  {
   "cell_type": "markdown",
   "metadata": {},
   "source": [
    "Crear la cadena CSS Locator equivalente al XPath: `css_locator = 'div#courses>div>h1'`"
   ]
  },
  {
   "cell_type": "code",
   "execution_count": null,
   "metadata": {},
   "outputs": [],
   "source": [
    "# Crear la cadena XPath equivalente al CSS Locator anterior\n",
    "xpath = '__________'\n",
    "\n",
    "sel.xpath(xpath).extract()"
   ]
  },
  {
   "cell_type": "markdown",
   "metadata": {},
   "source": [
    "## Uso de CSS Locator\n",
    "\n",
    "A continuación se obtienen el documento HTML con la ayuda de `request`"
   ]
  },
  {
   "cell_type": "code",
   "execution_count": 60,
   "metadata": {},
   "outputs": [
    {
     "name": "stderr",
     "output_type": "stream",
     "text": [
      "/opt/miniconda3/envs/mcd-projectsI2025a/lib/python3.13/site-packages/urllib3/connectionpool.py:1099: InsecureRequestWarning: Unverified HTTPS request is being made to host 'www.utm.mx'. Adding certificate verification is strongly advised. See: https://urllib3.readthedocs.io/en/latest/advanced-usage.html#tls-warnings\n",
      "  warnings.warn(\n"
     ]
    }
   ],
   "source": [
    "url = 'https://www.utm.mx/ensenanza.html#oferta'\n",
    "html = requests.get(url, verify=False).content\n",
    "\n",
    "sel = Selector(text=html)"
   ]
  },
  {
   "cell_type": "markdown",
   "metadata": {},
   "source": [
    "En un siguiente paso, deseamos construir una cadena CSS Locator la cual seleccione cierta colección de elementos:\n",
    "- Seleccionar los hipervínculos (elementos `a`) hijos del primer elemetento `div` que pertenece a la clase `fijo`, el cual es hijo de todos los elementos `div` que pertenecen al identificador (`id`): \"expandir\". "
   ]
  },
  {
   "cell_type": "code",
   "execution_count": 61,
   "metadata": {},
   "outputs": [],
   "source": [
    "css_locator = '___________'"
   ]
  },
  {
   "cell_type": "markdown",
   "metadata": {},
   "source": [
    "Ejecuta la función `how_many_elements` es número debe ser 30."
   ]
  },
  {
   "cell_type": "code",
   "execution_count": 62,
   "metadata": {},
   "outputs": [
    {
     "data": {
      "text/plain": [
       "30"
      ]
     },
     "execution_count": 62,
     "metadata": {},
     "output_type": "execute_result"
    }
   ],
   "source": [
    "def how_many_elements(css_locator):\n",
    "    return(len(sel.css(css_locator)))\n",
    "\n",
    "how_many_elements(css_locator)"
   ]
  },
  {
   "cell_type": "markdown",
   "metadata": {},
   "source": [
    "# El comodín de CSS\n",
    "\n",
    "Se puede utilizar el comodón `*`  en CSS Locators. Incluso, se utiliza de forma similar como cuando se desea ignorar el tipo de etiqueta. Por ejemplo:\n",
    "\n",
    "- La cadena CSS Locator: `'*'` selecciona todos los elementos del documento HTML.\n",
    "- La cadena CSS Locator: `'*.class-1'` selecciona todos los elementos los cuales pertenecen a  class-1, pero esto puede ser innecesario dado que la cadena `'.class-1'` significa lo mismo.\n",
    "\n",
    "- La cadena CSS Locator: `'*#uid'` selecciona el elemento con el atributo id igual a uid, pero es inncesario dado que la cadena `'#uid'` significa lo mismo.\n"
   ]
  },
  {
   "cell_type": "markdown",
   "metadata": {},
   "source": [
    "## Atributos CSS y selección de texto\n",
    "\n",
    "En el ejericio previo, creamos un CSS Locator para seleccionar todos los hipervínculos (elementos `a`) hijos del primer elemetento `div` que pertenece a la clase `fijo`, el cual es hijo de todos los elementos `div` que que pertenecen al identificador (`id`): \"expandir\". \n",
    "\n",
    "Ahora se quiere extraer los valores de los atributos `href` de estos elementos. \n"
   ]
  },
  {
   "cell_type": "code",
   "execution_count": null,
   "metadata": {},
   "outputs": [],
   "source": [
    "carrers_as = sel.css(css_locator)\n",
    "\n",
    "hrefs_from_css = carrers_as.css('::attr(href)')"
   ]
  },
  {
   "cell_type": "markdown",
   "metadata": {},
   "source": [
    "Realizar la conversión de la última instrucción a XPath."
   ]
  },
  {
   "cell_type": "code",
   "execution_count": null,
   "metadata": {},
   "outputs": [],
   "source": [
    "hrefs_from_xpath = carrers_as.xpath( '____' )"
   ]
  },
  {
   "cell_type": "markdown",
   "metadata": {},
   "source": [
    "Considerar el siguiente código HTML"
   ]
  },
  {
   "cell_type": "code",
   "execution_count": 64,
   "metadata": {},
   "outputs": [],
   "source": [
    "html = '''\n",
    "<html> \n",
    "    <body>\n",
    "        <div id=\"this-div\">\n",
    "            <p id=\"p1\" class=\"class-1\">This is not the element you are looking for</p>\n",
    "            <p id=\"p2\" class=\"class-12\">\n",
    "                <a href=\"https://www.google.com\">Google</a> is linked to here, but this isn\\'t the link you are looking for.\n",
    "            </p>\n",
    "            <p id=\"p3\" class=\"class-1 class-12\">\n",
    "                Here is the <a href=\"https://www.datacamp.com\" id=\"a-exercise\">DataCamp</a> link you want!\n",
    "            </p>\n",
    "        </div>\n",
    "    </body>\n",
    "</html>'\n",
    "'''\n",
    "\n",
    "sel = Selector(text=html)"
   ]
  },
  {
   "cell_type": "code",
   "execution_count": 65,
   "metadata": {},
   "outputs": [],
   "source": [
    "def print_results(xpath, css_locator):\n",
    "    print('Your XPath extracts to following:')\n",
    "    print(sel.xpath(xpath).extract())\n",
    "    print('-'*10)\n",
    "    print('Your CSS Locator extracts the following:')\n",
    "    print(sel.css(css_locator).extract())"
   ]
  },
  {
   "cell_type": "markdown",
   "metadata": {},
   "source": [
    "Al igual que en el ejemplo anterior, pero se requiere seleccionar texto de multiples generaciones de elementos específicos.\n",
    "\n",
    "Escribir las cadenas de XPath y CSS Locator para dirigir al texto de un específico párrafo de elemento `p`. El elemento `p` en el HTML esta definido de manera única con su atributo, el cual es \"p3\". El cual contiene cierta información.\n",
    "\n",
    "En este ejercicio, seleccionaras solo el texto dentro del elemento el cual incluye todo el texto de futuras generaciones. \n",
    "\n",
    "- Asignar a la variable `xpath` una cadena XPath que direccione al texto dentro del parrafo del elemento p conde el id es igual a p3, el cual no incluye el texto de futuras generaciones de este elemento `p`.\n",
    "- Asginar a la variable `css_locator` a una cadena CSS Locator al mismo texto."
   ]
  },
  {
   "cell_type": "code",
   "execution_count": null,
   "metadata": {},
   "outputs": [],
   "source": [
    "# Create an XPath string to the desired text.\n",
    "xpath = '____'\n",
    "\n",
    "# Create a CSS Locator string to the desired text.\n",
    "css_locator = '____'\n",
    "\n",
    "# Print the text from our selections\n",
    "print_results( xpath, css_locator )"
   ]
  },
  {
   "cell_type": "markdown",
   "metadata": {},
   "source": [
    "Repetir las mismas selecciones, exepto por que ahora si se desea incluir el texto de futuras generaciones."
   ]
  },
  {
   "cell_type": "code",
   "execution_count": null,
   "metadata": {},
   "outputs": [],
   "source": [
    "# Create an XPath string to the desired text.\n",
    "xpath = '_______'\n",
    "\n",
    "# Create a CSS Locator string to the desired text.\n",
    "css_locator = '____'\n",
    "\n",
    "# Print the text from our selections\n",
    "print_results( xpath, css_locator )"
   ]
  }
 ],
 "metadata": {
  "kernelspec": {
   "display_name": "mcd-projectsI2025a",
   "language": "python",
   "name": "python3"
  },
  "language_info": {
   "codemirror_mode": {
    "name": "ipython",
    "version": 3
   },
   "file_extension": ".py",
   "mimetype": "text/x-python",
   "name": "python",
   "nbconvert_exporter": "python",
   "pygments_lexer": "ipython3",
   "version": "3.13.0"
  }
 },
 "nbformat": 4,
 "nbformat_minor": 2
}
